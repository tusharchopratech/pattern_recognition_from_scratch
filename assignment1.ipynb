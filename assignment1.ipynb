{
 "cells": [
  {
   "cell_type": "markdown",
   "metadata": {},
   "source": [
    "## 1. Consider two classes described by the covariance matrices below (assume zero mean) \n",
    "                                            a.∑=[1 0]      b.∑=[1 0.9]\n",
    "                                                [0 1]          [0.9 1]"
   ]
  },
  {
   "cell_type": "markdown",
   "metadata": {},
   "source": [
    "### a) For each matrix generate 1000 data samples and plot them on separate figures."
   ]
  },
  {
   "cell_type": "code",
   "execution_count": 1,
   "metadata": {},
   "outputs": [
    {
     "data": {
      "text/plain": [
       "<Figure size 640x480 with 1 Axes>"
      ]
     },
     "metadata": {},
     "output_type": "display_data"
    },
    {
     "data": {
      "text/plain": [
       "<Figure size 640x480 with 1 Axes>"
      ]
     },
     "metadata": {},
     "output_type": "display_data"
    }
   ],
   "source": [
    "import matplotlib.pyplot as plt\n",
    "import numpy as np\n",
    "\n",
    "a_cov = [[1.0, 0.0], [0.0, 1.0]]\n",
    "b_cov = [[1.0, 0.9], [0.9, 1.0]]\n",
    "mean = [0, 0]\n",
    "\n",
    "data = np.random.multivariate_normal(mean, a_cov, 1000)\n",
    "plt.plot(data[:,0],data[:,1],'.')\n",
    "plt.show()\n",
    "\n",
    "data2 = np.random.multivariate_normal(mean, b_cov, 1000)\n",
    "plt.plot(data2[:,0],data2[:,1],'.')\n",
    "plt.show()"
   ]
  },
  {
   "cell_type": "markdown",
   "metadata": {},
   "source": [
    "### b) For each case calculate first standard deviation contour as a function of the mean, eigenvalues, and eigenvectors. Show your calculation (Hint: consider distribution whitening from the tutorial). You may use preexisting functions for Eigen computation.\n",
    "Plot each contour on the respective plots from part (a)."
   ]
  },
  {
   "cell_type": "code",
   "execution_count": 2,
   "metadata": {
    "scrolled": true
   },
   "outputs": [
    {
     "name": "stdout",
     "output_type": "stream",
     "text": [
      "[[1. 0.]\n",
      " [0. 1.]]\n",
      "0.25\n",
      " ------ \n",
      "[[1. 0.]\n",
      " [0. 1.]]\n",
      "[[1. 0.]\n",
      " [0. 1.]]\n"
     ]
    }
   ],
   "source": [
    "w1,v1=np.linalg.eig(a_cov)\n",
    "print(v1)\n",
    "\n",
    "\n",
    "#w,v=np.linalg.eig(b_cov)\n",
    "#print(w)\n",
    "#print(v)\n",
    "\n",
    "print(np.var(v1))\n",
    "\n",
    "print(\" ------ \")\n",
    "\n",
    "print(np.matmul(a_cov,v1))\n",
    "print(np.dot(w1[1],v1))\n"
   ]
  },
  {
   "cell_type": "markdown",
   "metadata": {},
   "source": [
    "### c) Calculate sample covariance matrices for each class using the data generated in part(a). Do not use a Python/Matlab function for computing the covariance."
   ]
  },
  {
   "cell_type": "code",
   "execution_count": 3,
   "metadata": {},
   "outputs": [
    {
     "name": "stdout",
     "output_type": "stream",
     "text": [
      "For matrix a: [[0.91750371 0.02484638]\n",
      " [0.02484638 1.06622883]]\n",
      "For matrix b [[0.95222081 0.85821763]\n",
      " [0.85821763 0.95347828]]\n"
     ]
    }
   ],
   "source": [
    "# use your own functions\n",
    "print(\"For matrix a:\", np.cov(data[:,0],data[:,1]))\n",
    "print(\"For matrix b\",np.cov(data2[:,0],data2[:,1]))"
   ]
  },
  {
   "cell_type": "markdown",
   "metadata": {},
   "source": [
    "### d) Compare the given covariance matrix for each class with the corresponding sample covariance matrix generated in (b)."
   ]
  },
  {
   "cell_type": "code",
   "execution_count": 4,
   "metadata": {},
   "outputs": [
    {
     "name": "stdout",
     "output_type": "stream",
     "text": [
      "0.0031066455096758305\n"
     ]
    }
   ],
   "source": [
    "tmp = np.cov(data[:,0],data[:,1])\n",
    "mse = ((a_cov - tmp)**2).mean(axis=None)\n",
    "print(mse)"
   ]
  },
  {
   "cell_type": "markdown",
   "metadata": {},
   "source": [
    "## 2. Consider a 2D problem with 3 classes where each class is described by the following priors, mean vectors, and covariance matrices.\n",
    "\n",
    "                                            P(C1) = 0.2\n",
    "                                            μ1 =[3 2]𝑇\n",
    "                                            ∑1=[1 −1] \n",
    "                                               [−1 2]\n",
    "\n",
    "                                            P(C2) = 0.3\n",
    "                                            μ2 =[5 4]𝑇\n",
    "                                            ∑2=[1 −1] \n",
    "                                                [−1 7]\n",
    "\n",
    "                                            P(C3) = 0.5\n",
    "                                            μ3 =[2 5]𝑇\n",
    "                                            ∑3=[0.5 0.5] \n",
    "                                                [0.5 3]"
   ]
  },
  {
   "cell_type": "markdown",
   "metadata": {},
   "source": [
    "### a) Create a program to plot the decision boundaries for a ML and MAP classifier. Plot the means and first standard deviation contours for each class. Discuss the differences between the decision boundaries.\n"
   ]
  },
  {
   "cell_type": "code",
   "execution_count": 5,
   "metadata": {},
   "outputs": [
    {
     "name": "stdout",
     "output_type": "stream",
     "text": [
      "dd\n"
     ]
    }
   ],
   "source": [
    "print(\"dd\")\n",
    "# import numpy as np\n",
    "\n",
    "# class MLClassifier ( object ):\n",
    "\n",
    "#     def __init__ ( self, x_train ):\n",
    "#         \"\"\"Takes in the training dataset, a n_features * n_samples\n",
    "#         (e.g. wavebands * samples) array. Pre calculates a lot of terms\n",
    "#         \"\"\"\n",
    "#         self.x_train = x_train\n",
    "#         self.n_samples = x_train.shape[1]\n",
    "#         self.n_features = x_train.shape[0]\n",
    "#         cov_m = np.cov ( x_train )\n",
    "#         self.i_cov_m = np.linalg.inv ( cov_m )\n",
    "#         self.det_cov = np.linalg.det ( cov_m )\n",
    "#         self.mu = x_train.mean ( axis=1 )\n",
    "#         self.constant_term = -0.5*np.log( self.det_cov ) - \\\n",
    "#                 self.n_features*0.5*np.log(2.*np.pi)\n",
    "\n",
    "#     def classify ( self, x_test, threshold = None ):\n",
    "#         \"\"\"Classifies (ie gives the probability of belonging to a \n",
    "#         class defined by the `__init__` training set) for a number\n",
    "#         of test data vectors. These vectors are n_features*n_samples.\n",
    "#         If `threshold` is specified, it selects samples with a probability\n",
    "#         larger or equal to it's value\n",
    "#         \"\"\"\n",
    "#         s = x_test.T - self.mu\n",
    "#         log_prob =  -  0.5*  \\\n",
    "#             (np.dot(s, self.i_cov_m) *  s).sum(1) \n",
    "#         prob = np.exp ( log_prob )\n",
    "\n",
    "#         if threshold is not None:\n",
    "#             return np.where ( prob >= threshold, \\\n",
    "#                 True, False )\n",
    "#         else:\n",
    "#             return prob\n",
    "\n",
    "\n",
    "# if __name__ == \"__main__\":\n",
    "#     # Create two random datasets with a known covariance and mean\n",
    "#     train = np.random.multivariate_normal([0.8, 0.4], np.diag(np.array([0.2, 0.9])), 5000).T\n",
    "#     test = np.random.multivariate_normal([0.8, 0.4], np.diag(np.array([0.2, 0.9])), 10000).T\n",
    "#     # Train using the training set\n",
    "#     clf = MLClassifier ( train )\n",
    "#     # Classify with a threhsold of 30%\n",
    "#     probs = clf.classify ( test,threshold=0.3 )\n",
    "#     plt.plot ( test[0,probs], test[1,probs], 'r+')\n",
    "#     # Classify with a treshold of 70%\n",
    "#     probs = clf.classify ( test,threshold=0.7 )\n",
    "#     plt.plot ( test[0, probs], test[1,probs], 'k+')"
   ]
  },
  {
   "cell_type": "code",
   "execution_count": 89,
   "metadata": {},
   "outputs": [
    {
     "name": "stdout",
     "output_type": "stream",
     "text": [
      "-2.588018294692748\n"
     ]
    },
    {
     "data": {
      "image/png": "[encoded data removed]",
      "text/plain": [
       "<Figure size 432x288 with 1 Axes>"
      ]
     },
     "metadata": {
      "needs_background": "light"
     },
     "output_type": "display_data"
    },
    {
     "data": {
      "image/png": "[encoded data removed]",
      "text/plain": [
       "<Figure size 432x288 with 1 Axes>"
      ]
     },
     "metadata": {
      "needs_background": "light"
     },
     "output_type": "display_data"
    }
   ],
   "source": [
    "from matplotlib import patches\n",
    "\n",
    "p_1 = 0.2\n",
    "mean_1 = [3, 2]\n",
    "cov_1=[[1,-1],[-1,2]]\n",
    "\n",
    "p_2 = 0.3\n",
    "mean_2 = [5, 4]\n",
    "cov_2=[[1,-1],[-1,7]]\n",
    "\n",
    "p_3 = 0.5\n",
    "mean_3 = [2, 5]\n",
    "cov_3=[[0.5,0.5],[0.5,3]]\n",
    "\n",
    "\n",
    "\n",
    "fig,ax = plt.subplots(1)\n",
    "ax.set_xlim([0, 8])\n",
    "ax.set_ylim([0, 12])\n",
    "\n",
    "\n",
    "\n",
    "w1,vec1=np.linalg.eig(cov_1)\n",
    "vx, vy = vec1[:,0][0], vec1[:,0][1]\n",
    "theta = np.arctan2(vy, vx)\n",
    "\n",
    "print(theta)\n",
    "\n",
    "e1 = patches.Ellipse((mean_1[0], mean_1[1]), w1[0], w1[1], angle=theta, linewidth=1, fill=False, zorder=1)\n",
    "\n",
    "w2,v2=np.linalg.eig(cov_2)\n",
    "vx, vy = v2[:,0][0], v2[:,0][1]\n",
    "theta = np.arctan2(vy, vx)\n",
    "e2 = patches.Ellipse((mean_2[0], mean_2[1]), w2[0], w2[1], angle=theta, linewidth=2, fill=False, zorder=1)\n",
    "\n",
    "w3,v3=np.linalg.eig(cov_3)\n",
    "vx, vy = v3[:,0][0], v3[:,0][1]\n",
    "theta = np.arctan2(vy, vx)\n",
    "e3 = patches.Ellipse((mean_3[0], mean_3[1]), w3[0], w3[1], angle=theta, linewidth=3, fill=False, zorder=1)\n",
    "\n",
    "\n",
    "ax.add_patch(e1)\n",
    "ax.add_patch(e2)\n",
    "ax.add_patch(e3)\n",
    "plt.show()\n",
    "\n",
    "\n",
    "data_1 = np.random.multivariate_normal(mean_1, cov_1, int(p_1*3000))\n",
    "plt.plot(data_1[:,0],data_1[:,1],'r+')\n",
    "\n",
    "data_2 = np.random.multivariate_normal(mean_2, cov_2, int(p_2*3000))\n",
    "plt.plot(data_2[:,0],data_2[:,1],'k+')\n",
    "\n",
    "data_3 = np.random.multivariate_normal(mean_3, cov_3, int(p_3*3000))\n",
    "plt.plot(data_3[:,0],data_3[:,1],'g+')\n",
    "\n",
    "\n",
    "plt.show()"
   ]
  },
  {
   "cell_type": "code",
   "execution_count": null,
   "metadata": {},
   "outputs": [],
   "source": []
  },
  {
   "cell_type": "markdown",
   "metadata": {},
   "source": [
    "### 3. The MNIST dataset contains a set of images containing the digits 0 to 9. Each image in the data set is a 28x28 image. The data is divided into two sets of images: a training set and a testing set. The MNIST dataset can be downloaded from http://yann.lecun.com/exdb/mnist/. Use only the training set to perform this part."
   ]
  },
  {
   "cell_type": "code",
   "execution_count": 31,
   "metadata": {},
   "outputs": [],
   "source": [
    "import gzip\n",
    "f = gzip.open('train-images-idx3-ubyte.gz','r')\n",
    "\n",
    "image_size = 28\n",
    "num_images = 60000\n",
    "\n",
    "import numpy as np\n",
    "f.read(16)\n",
    "buf = f.read(image_size * image_size * num_images)\n",
    "data = np.frombuffer(buf, dtype=np.uint8).astype(np.float32)\n",
    "data = data.reshape(num_images, image_size* image_size)"
   ]
  },
  {
   "cell_type": "markdown",
   "metadata": {},
   "source": [
    "a). Program PCA that takes X(DxN) and returns Y(dxN) where N is the number of samples, D is the number of input features, and d is the number of features selected by the PCA algorithm. Note that you must compute the PCA computation method by yourself. You may use preexisting functions for Eigen computation."
   ]
  },
  {
   "cell_type": "code",
   "execution_count": 32,
   "metadata": {},
   "outputs": [
    {
     "name": "stdout",
     "output_type": "stream",
     "text": [
      "(60000, 784)\n",
      "(5, 60000)\n"
     ]
    }
   ],
   "source": [
    "def my_pca(data, dimentions):\n",
    "    mean = np.mean(data, axis = 0)\n",
    "    mean_sub = data - mean\n",
    "    cov = np.cov(mean_sub, rowvar = 0)\n",
    "    eigen_values, eigen_vectors = np.linalg.eig(np.mat(cov))\n",
    "    \n",
    "    i = np.argsort(eigen_values)\n",
    "    i=i[::-1]\n",
    "    \n",
    "    largest_eigen_values_index = i[:dimentions]\n",
    "    eigen_vectors = eigen_vectors[:,largest_eigen_values_index]\n",
    "    \n",
    "    P = np.dot(np.transpose(eigen_vectors), np.transpose(mean_sub))\n",
    "    return P\n",
    "\n",
    "\n",
    "\n",
    "print(np.array(data).shape)\n",
    "tmp=my_pca(np.array(data), 5)\n",
    "print(np.array(tmp).shape)\n"
   ]
  },
  {
   "cell_type": "markdown",
   "metadata": {},
   "source": [
    "b) Propose a suitable d using proportion of variance (POV) =95%."
   ]
  },
  {
   "cell_type": "code",
   "execution_count": 45,
   "metadata": {},
   "outputs": [
    {
     "name": "stdout",
     "output_type": "stream",
     "text": [
      "154\n"
     ]
    }
   ],
   "source": [
    "def get_dimentions_from_pca(data, pov):\n",
    "    mean = np.mean(data, axis = 0)\n",
    "    mean_sub = data - mean\n",
    "    cov = np.cov(mean_sub, rowvar = 0)\n",
    "    eigen_values, eigen_vectors = np.linalg.eig(np.mat(cov))\n",
    "    \n",
    "    i = np.argsort(eigen_values)\n",
    "    i=i[::-1]\n",
    "    \n",
    "    sum_eigen_values = np.sum(eigen_values)\n",
    "    \n",
    "    dimentions = 0\n",
    "    tot = 0.0\n",
    "    for x in i:\n",
    "        if tot/sum_eigen_values < pov:\n",
    "            tot+=eigen_values[x]\n",
    "            dimentions+=1\n",
    "        else: \n",
    "            break\n",
    "    \n",
    "    print(dimentions)\n",
    " \n",
    "    return dimentions\n",
    "\n",
    "tmp=get_dimentions_from_pca(np.array(data),0.95)"
   ]
  },
  {
   "cell_type": "markdown",
   "metadata": {},
   "source": [
    "## 4. Once again, consider the MNIST dataset. Use the training set as your training data and the test set as your test data."
   ]
  },
  {
   "cell_type": "markdown",
   "metadata": {},
   "source": [
    "a) Classify the test data using a kNN classifier. Report the accuracy for k = {1,3,5,11}. Justify and compare the reported accuracies for the different values of k. Do not use kNN implemented function in Python/Matlab and implement it by yourself."
   ]
  },
  {
   "cell_type": "code",
   "execution_count": null,
   "metadata": {},
   "outputs": [],
   "source": []
  },
  {
   "cell_type": "code",
   "execution_count": 8,
   "metadata": {},
   "outputs": [],
   "source": [
    "from sklearn.model_selection import train_test_split\n",
    "\n",
    "# Training and testing split,\n",
    "# 75% for training and 25% for testing\n",
    "#(trainData, testData, trainLabels, testLabels) = train_test_split(np.array(mnist.data), mnist.target, test_size=0.25, random_state=42)\n",
    "\n",
    "# take 10% of the training data and use that for validation\n",
    "#(trainData, valData, trainLabels, valLabels) = train_test_split(trainData, trainLabels, test_size=0.1, random_state=84)\n"
   ]
  },
  {
   "cell_type": "code",
   "execution_count": 9,
   "metadata": {},
   "outputs": [
    {
     "data": {
      "image/png": "[encoded data removed]",
      "text/plain": [
       "<Figure size 432x288 with 1 Axes>"
      ]
     },
     "metadata": {
      "needs_background": "light"
     },
     "output_type": "display_data"
    }
   ],
   "source": [
    "import matplotlib.pyplot as plt\n",
    "\n",
    "cov = [[1,0],[0,1]]\n",
    "cov2 = [[1,0.9],[0.9,1]]\n",
    "mean = [0,0]\n",
    "\n",
    "data = np.random.multivariate_normal(mean=mean, cov=cov,size =1000)\n",
    "data2 = np.random.multivariate_normal(mean=mean, cov=cov2,size =1000)\n",
    "\n",
    "#print(data)\n",
    "#print(data2)\n",
    "\n",
    "\n",
    "plt.scatter(data[0], data[1], label= \"stars\", color= \"green\",  \n",
    "            marker= \"*\", s=30) \n",
    "\n",
    "\n",
    "#f1 = plt.figure\n",
    "#plt.plot(data[0],data[1])\n",
    "plt.show()\n"
   ]
  }
 ],
 "metadata": {
  "kernelspec": {
   "display_name": "Python 3",
   "language": "python",
   "name": "python3"
  },
  "language_info": {
   "codemirror_mode": {
    "name": "ipython",
    "version": 3
   },
   "file_extension": ".py",
   "mimetype": "text/x-python",
   "name": "python",
   "nbconvert_exporter": "python",
   "pygments_lexer": "ipython3",
   "version": "3.6.5"
  }
 },
 "nbformat": 4,
 "nbformat_minor": 2
}
