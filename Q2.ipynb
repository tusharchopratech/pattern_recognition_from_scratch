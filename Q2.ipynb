{
 "cells": [
  {
   "cell_type": "markdown",
   "metadata": {},
   "source": [
    "## 2. Consider a 2D problem with 3 classes where each class is described by the following priors, mean vectors, and covariance matrices.\n",
    "\n",
    "                                            P(C1) = 0.2\n",
    "                                            μ1 =[3 2]𝑇\n",
    "                                            ∑1=[1 −1] \n",
    "                                               [−1 2]\n",
    "\n",
    "                                            P(C2) = 0.3\n",
    "                                            μ2 =[5 4]𝑇\n",
    "                                            ∑2=[1 −1] \n",
    "                                                [−1 7]\n",
    "\n",
    "                                            P(C3) = 0.5\n",
    "                                            μ3 =[2 5]𝑇\n",
    "                                            ∑3=[0.5 0.5] \n",
    "                                                [0.5 3]"
   ]
  },
  {
   "cell_type": "markdown",
   "metadata": {},
   "source": [
    "### a) Create a program to plot the decision boundaries for a ML and MAP classifier. Plot the means and first standard deviation contours for each class. Discuss the differences between the decision boundaries.\n"
   ]
  },
  {
   "cell_type": "code",
   "execution_count": 1,
   "metadata": {},
   "outputs": [],
   "source": [
    "p_1 = 0.2\n",
    "mean_1 = [3, 2]\n",
    "cov_1=[[1,-1],[-1,2]]\n",
    "\n",
    "p_2 = 0.3\n",
    "mean_2 = [5, 4]\n",
    "cov_2=[[1,-1],[-1,7]]\n",
    "\n",
    "p_3 = 0.5\n",
    "mean_3 = [2, 5]\n",
    "cov_3=[[0.5,0.5],[0.5,3]]\n"
   ]
  }
 ],
 "metadata": {
  "kernelspec": {
   "display_name": "Python 3",
   "language": "python",
   "name": "python3"
  },
  "language_info": {
   "codemirror_mode": {
    "name": "ipython",
    "version": 3
   },
   "file_extension": ".py",
   "mimetype": "text/x-python",
   "name": "python",
   "nbconvert_exporter": "python",
   "pygments_lexer": "ipython3",
   "version": "3.7.1"
  }
 },
 "nbformat": 4,
 "nbformat_minor": 2
}
