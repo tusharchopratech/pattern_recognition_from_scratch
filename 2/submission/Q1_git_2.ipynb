{
 "cells": [
  {
   "cell_type": "markdown",
   "metadata": {},
   "source": [
    "Datasets Description\n",
    "\n",
    "The UCI Machine Learning Repository is a collection of databases, domain theories, and data generators that are used by the machine learning community for the empirical analysis of machine learning algorithms.\n",
    "\n",
    "Datasets are available on http://archive.ics.uci.edu/ml/datasets.html For this homework assignment, you need to download the datasets “glass” and “Tic-Tac-Toe Endgame” from the above link. The “glass” dataset is categorical and the “Tic-Tac-Toe” dataset is continuous."
   ]
  },
  {
   "cell_type": "markdown",
   "metadata": {},
   "source": [
    "# **Question 1**\n",
    "\n",
    "Design a C4.5 decision tree classifier to classify each dataset mentioned above. Report the accuracy based on the 10-times-10-fold cross validation approach (20% of training set as the validation set for every experiment). Report the mean accuracy and the variance of the accuracy for each experiment."
   ]
  },
  {
   "cell_type": "code",
   "execution_count": 1,
   "metadata": {},
   "outputs": [],
   "source": [
    "from sklearn.tree import DecisionTreeClassifier\n",
    "import pandas as pd\n",
    "import numpy as np\n",
    "import random\n",
    "from pprint import pprint\n",
    "import matplotlib.pyplot as plt"
   ]
  },
  {
   "cell_type": "code",
   "execution_count": 2,
   "metadata": {},
   "outputs": [],
   "source": [
    "def if_node_is_label(data):\n",
    "    if len(np.unique(data[:, -1])) == 1:\n",
    "        return True\n",
    "    return False"
   ]
  },
  {
   "cell_type": "code",
   "execution_count": 3,
   "metadata": {},
   "outputs": [],
   "source": [
    "def classify_data(data):\n",
    "    \n",
    "    label_column = data[:, -1]\n",
    "    unique_classes, counts_unique_classes = np.unique(label_column, return_counts=True)\n",
    "\n",
    "    index = counts_unique_classes.argmax()\n",
    "    classification = unique_classes[index]\n",
    "    \n",
    "    return classification"
   ]
  },
  {
   "cell_type": "code",
   "execution_count": 4,
   "metadata": {},
   "outputs": [],
   "source": [
    "def get_potential_splits(data):\n",
    "    \n",
    "    potential_splits = {}\n",
    "    _, n_columns = data.shape\n",
    "    for column_index in range(n_columns - 1):          # excluding the last column which is the label\n",
    "        values = data[:, column_index]\n",
    "        unique_values = np.unique(values)\n",
    "        \n",
    "        potential_splits[column_index] = unique_values\n",
    "    \n",
    "    return potential_splits"
   ]
  },
  {
   "cell_type": "code",
   "execution_count": 5,
   "metadata": {},
   "outputs": [],
   "source": [
    "def split_data(data, split_column, split_value):\n",
    "    \n",
    "    split_column_values = data[:, split_column]\n",
    "\n",
    "    type_of_feature = FEATURE_TYPES[split_column]\n",
    "    if type_of_feature == \"continuous\":\n",
    "        data_below = data[split_column_values <= split_value]\n",
    "        data_above = data[split_column_values >  split_value]\n",
    "    \n",
    "    # feature is categorical   \n",
    "    else:\n",
    "        data_below = data[split_column_values == split_value]\n",
    "        data_above = data[split_column_values != split_value]\n",
    "    \n",
    "    return data_below, data_above"
   ]
  },
  {
   "cell_type": "code",
   "execution_count": 6,
   "metadata": {},
   "outputs": [],
   "source": [
    "def calculate_entropy(data):\n",
    "    \n",
    "    label_column = data[:, -1]\n",
    "    _, counts = np.unique(label_column, return_counts=True)\n",
    "\n",
    "    probabilities = counts / counts.sum()\n",
    "    entropy = sum(probabilities * -np.log2(probabilities))\n",
    "     \n",
    "    return entropy"
   ]
  },
  {
   "cell_type": "code",
   "execution_count": 7,
   "metadata": {},
   "outputs": [],
   "source": [
    "def calculate_overall_entropy(data_below, data_above):\n",
    "    \n",
    "    n = len(data_below) + len(data_above)\n",
    "    p_data_below = len(data_below) / n\n",
    "    p_data_above = len(data_above) / n\n",
    "\n",
    "    overall_entropy =  (p_data_below * calculate_entropy(data_below) \n",
    "                      + p_data_above * calculate_entropy(data_above))\n",
    "    \n",
    "    return overall_entropy"
   ]
  },
  {
   "cell_type": "code",
   "execution_count": 8,
   "metadata": {},
   "outputs": [],
   "source": [
    "def determine_best_split(data, potential_splits):\n",
    "    overall_entropy = 10000000\n",
    "    for column_index in potential_splits:\n",
    "        for value in potential_splits[column_index]:\n",
    "            data_below, data_above = split_data(data, split_column=column_index, split_value=value)\n",
    "            current_overall_entropy = calculate_overall_entropy(data_below, data_above)\n",
    "\n",
    "            if current_overall_entropy <= overall_entropy:\n",
    "                overall_entropy = current_overall_entropy\n",
    "                best_split_column = column_index\n",
    "                best_split_value = value\n",
    "    \n",
    "    return best_split_column, best_split_value"
   ]
  },
  {
   "cell_type": "code",
   "execution_count": 9,
   "metadata": {},
   "outputs": [],
   "source": [
    "def determine_type_of_feature(df):\n",
    "    \n",
    "    feature_types = []\n",
    "    n_unique_values_treshold = 15\n",
    "    for feature in df.columns:\n",
    "        if feature != \"label\":\n",
    "            unique_values = df[feature].unique()\n",
    "            example_value = unique_values[0]\n",
    "\n",
    "            if (isinstance(example_value, str)) or (len(unique_values) <= n_unique_values_treshold):\n",
    "                feature_types.append(\"categorical\")\n",
    "            else:\n",
    "                feature_types.append(\"continuous\")\n",
    "    \n",
    "    return feature_types"
   ]
  },
  {
   "cell_type": "code",
   "execution_count": 1,
   "metadata": {},
   "outputs": [],
   "source": [
    "class Node: \n",
    "    def __init__(self, data): \n",
    "        self.data = data \n",
    "        self.left = None\n",
    "        self.right = None\n",
    "        \n",
    "class DecisionTree:\n",
    "    \n",
    "    def __init__(self): \n",
    "        self.root_main = None\n",
    "        self.rules = []\n",
    "        self.data_set_entropy = None\n",
    "    \n",
    "    def build_tree(self, df, root=None, pointer=\"S\", counter=0):\n",
    "\n",
    "        # data preparations\n",
    "        if counter == 0:\n",
    "            global COLUMN_HEADERS, FEATURE_TYPES\n",
    "            COLUMN_HEADERS = df.columns\n",
    "            FEATURE_TYPES = determine_type_of_feature(df)\n",
    "            data = df.values\n",
    "            self.data_set_entropy = calculate_entropy(df)\n",
    "        else:\n",
    "            data = df           \n",
    "\n",
    "        # base cases\n",
    "        if (if_node_is_label(data)):\n",
    "            classification = classify_data(data)\n",
    "            node = Node(classification)\n",
    "            if pointer is \"L\":\n",
    "                root.left=node\n",
    "                root=node\n",
    "            if pointer is \"R\":\n",
    "                root.right=node\n",
    "                root=node\n",
    "            return \n",
    "        # recursive part\n",
    "        else:    \n",
    "            counter += 1\n",
    "\n",
    "            # helper functions \n",
    "            potential_splits = get_potential_splits(data)\n",
    "            split_column, split_value = determine_best_split(data, potential_splits, self.data_set_entropy)\n",
    "            data_below, data_above = split_data(data, split_column, split_value, self.data_set_entropy)\n",
    "\n",
    "            # check for empty data\n",
    "            if len(data_below) == 0 or len(data_above) == 0:\n",
    "                classification = classify_data(data)\n",
    "                node = Node(classification)\n",
    "                if pointer is \"L\":\n",
    "                    root.left=node\n",
    "                    root=node\n",
    "                if pointer is \"R\":\n",
    "                    root.right=node\n",
    "                    root=node\n",
    "                return\n",
    "\n",
    "            # determine question\n",
    "            feature_name = COLUMN_HEADERS[split_column]\n",
    "            type_of_feature = FEATURE_TYPES[split_column]\n",
    "            if type_of_feature == \"continuous\":\n",
    "                question = \"{} <= {}\".format(feature_name, split_value)\n",
    "            else:\n",
    "                question = \"{} == {}\".format(feature_name, split_value)\n",
    "\n",
    "            if pointer is \"S\":\n",
    "                root=Node(question)\n",
    "                self.root_main = root\n",
    "            else:\n",
    "                node = Node(question)\n",
    "                if pointer is \"L\":\n",
    "                    root.left=node   \n",
    "                    root=node\n",
    "\n",
    "                if pointer is \"R\":\n",
    "                    root.right=node\n",
    "                    root=node\n",
    "\n",
    "            self.build_tree(data_below, root, \"L\", counter)\n",
    "            self.build_tree(data_above, root, \"R\", counter)\n",
    "\n",
    "            return self.root_main\n",
    "         \n",
    "    def convert_tree_to_rules(self, path=[], pathLen=0, status=\"\"):\n",
    "        root = self.root_main\n",
    "        self.get_paths(root,path,pathLen,status)\n",
    "        ar = np.array(self.rules)\n",
    "        for i in range(len(self.rules)):\n",
    "            for j in range(len(self.rules[i])):\n",
    "                if \"R\" in self.rules[i][j]:\n",
    "                    feature_index, comparison_operator, value = self.rules[i][j-1].split(\" \")\n",
    "                    if FEATURE_TYPES[int(feature_index)] == \"continuous\":\n",
    "                        self.rules[i][j-1] = \"{} > {}\".format(feature_index, value) \n",
    "                    else:\n",
    "                        self.rules[i][j-1] = \"{} != {}\".format(feature_index, value) \n",
    "                self.rules[i][j]=self.rules[i][j].replace('R', '')\n",
    "                self.rules[i][j]=self.rules[i][j].replace('L', '')\n",
    "        return self.rules\n",
    "        \n",
    "    def printArray(self, ints, len): \n",
    "        array = []\n",
    "        for i in ints[0 : len]:\n",
    "            array.append(str(i))\n",
    "        self.rules.append(array)\n",
    "    \n",
    "    def get_paths(self, root, path, pathLen, status):\n",
    "\n",
    "        if root is None: \n",
    "            return\n",
    "\n",
    "        if(len(path) > pathLen):  \n",
    "            path[pathLen] = status+str(root.data) \n",
    "        else: \n",
    "            path.append(status+str(root.data))\n",
    "\n",
    "        pathLen = pathLen + 1\n",
    "\n",
    "        if root.left is None and root.right is None: \n",
    "            self.printArray(path, pathLen) \n",
    "        else: \n",
    "            self.get_paths(root.left, path, pathLen, \"L\") \n",
    "            self.get_paths(root.right, path, pathLen, \"R\") \n",
    "\n",
    "    def get_class_of_sample_from_rule(self, rule, sample):\n",
    "        sample_class = None\n",
    "        for i in range(len(rule)):\n",
    "            if i < len(rule) - 1:\n",
    "                feature_index, comparison_operator, value = rule[i].split(\" \")\n",
    "                if FEATURE_TYPES[int(feature_index)] == \"continuous\":\n",
    "                    if comparison_operator == \"<=\":\n",
    "                        if not float(sample[int(feature_index)]) <= float(value):\n",
    "                            break\n",
    "                    elif comparison_operator == \">\":\n",
    "                        if not float(sample[int(feature_index)]) > float(value):\n",
    "                            break\n",
    "                else:\n",
    "                    if comparison_operator == \"==\":\n",
    "                        if not sample[int(feature_index)] == value:\n",
    "                            break\n",
    "                    elif comparison_operator == \"!=\":\n",
    "                        if not sample[int(feature_index)] is not value:\n",
    "                            break\n",
    "            else:\n",
    "                sample_class = rule[len(rule)-1]         \n",
    "        return sample_class\n",
    "     \n",
    "    def prune_rule(self, rule, validation_data):\n",
    "        \n",
    "        base_rule = rule\n",
    "        base_accuracy = 0.0\n",
    "        new_rule = rule\n",
    "        new_accuracy = 0.0\n",
    "        old_accuracy = 0.0\n",
    "        \n",
    "        accuracy = 0\n",
    "        total_for_accuracy = 0\n",
    "        for i in range(len(validation_data)):\n",
    "            predict_class = self.get_class_of_sample_from_rule(rule, validation_data[i])\n",
    "            if predict_class is not None:\n",
    "                total_for_accuracy+=1\n",
    "                if predict_class == str(validation_data[i][9]):\n",
    "                    accuracy +=1\n",
    "                \n",
    "        if total_for_accuracy is not 0: \n",
    "            base_accuracy = accuracy/total_for_accuracy\n",
    "            old_accuracy = base_accuracy\n",
    "            new_accuracy = base_accuracy\n",
    "        \n",
    "        flag=1\n",
    "        while flag==1:\n",
    "            flag=0 \n",
    "            for i in range(len(rule)-1):\n",
    "                my_rule = rule.copy()\n",
    "                my_rule.pop(i)          \n",
    "                accuracy = 0\n",
    "                total_for_accuracy = 0\n",
    "                for i in range(len(validation_data)):\n",
    "                    predict_class = self.get_class_of_sample_from_rule(my_rule, validation_data[i])\n",
    "                    if predict_class is not None:\n",
    "                        total_for_accuracy+=1\n",
    "                        if predict_class == str(validation_data[i][9]):\n",
    "                            accuracy +=1\n",
    "                \n",
    "                tmp_rule = my_rule.copy()\n",
    "                if total_for_accuracy is not 0: \n",
    "                    tmp_accuracy = accuracy/total_for_accuracy\n",
    "                    if tmp_accuracy > old_accuracy:\n",
    "                        old_accuracy = tmp_accuracy\n",
    "                        new_accuracy = tmp_accuracy\n",
    "                        new_rule = tmp_rule\n",
    "                        flag=1   \n",
    "        return base_rule, base_accuracy, new_rule, new_accuracy\n",
    "      \n",
    "    def prune_tree(self, validation_data):\n",
    "        \n",
    "        self.convert_tree_to_rules()\n",
    "        validation_data=validation_data.values\n",
    "        new_rules = []\n",
    "    \n",
    "        for i, rule in enumerate(self.rules):\n",
    "            rule_label = rule[len(rule)-1]    \n",
    "            old_rule, old_accurcay, new_rule, new_accuracy = self.prune_rule(rule, validation_data)\n",
    "            new_rule = [new_accuracy] + new_rule\n",
    "            new_rules.append(new_rule)\n",
    "        \n",
    "        self.rules = new_rules\n",
    "        self.rules.sort(key=lambda x: x[0])\n",
    "        self.rules = self.rules[::-1]\n",
    "    \n",
    "    def get_rules(self): \n",
    "        self.rules = [val[1:] for val in self.rules]\n",
    "        return self.rules\n",
    "    \n",
    "    def predict_class(self, sample):\n",
    "        sample_class = None\n",
    "        for rule in self.rules:\n",
    "            sample_class = self.get_class_of_sample_from_rule(rule,sample)\n",
    "            if sample_class is not None:\n",
    "                break\n",
    "        return sample_class"
   ]
  },
  {
   "cell_type": "code",
   "execution_count": 11,
   "metadata": {},
   "outputs": [],
   "source": [
    "def train_test_k_fold_split(df, fold):\n",
    "    indices = df.index.tolist()\n",
    "    low = int((fold/10)*len(indices))\n",
    "    high = int(((fold+1)/10)*len(indices))\n",
    "    test_indices=indices[low:high]\n",
    "    test_df = df.loc[test_indices]\n",
    "    train_df = df.drop(test_indices)\n",
    "    return train_df, test_df"
   ]
  },
  {
   "cell_type": "code",
   "execution_count": 12,
   "metadata": {},
   "outputs": [],
   "source": [
    "def split_training_and_validation(df, division):\n",
    "    indices = df.index.tolist()\n",
    "    validation_indices=indices[int((1-division)*len(indices)):]\n",
    "    validation_df = df.loc[validation_indices]\n",
    "    train_df = df.drop(validation_indices)\n",
    "    return train_df, validation_df"
   ]
  },
  {
   "cell_type": "markdown",
   "metadata": {},
   "source": [
    "## Glass Dataset"
   ]
  },
  {
   "cell_type": "code",
   "execution_count": 13,
   "metadata": {},
   "outputs": [],
   "source": [
    "from sklearn.utils import shuffle\n",
    "df = pd.read_csv('http://archive.ics.uci.edu/ml/machine-learning-databases/glass/glass.data')\n",
    "df=df.drop(df.columns[0], axis=1)\n",
    "df.columns = [i for i in range(len(df.columns))]\n",
    "\n",
    "my_accuracies_main = []\n",
    "for _ in range(1):\n",
    "    my_accuracies = []\n",
    "    df=shuffle(df)\n",
    "    for i in range(10):\n",
    "        decision_tree = DecisionTree()\n",
    "        train_df, test_df = train_test_k_fold_split(df, i)\n",
    "        train_data, validation_data=split_training_and_validation(train_df, 0.2)\n",
    "        decision_tree.build_tree(train_data)\n",
    "        decision_tree.prune_tree(validation_data)\n",
    "        decision_tree.get_rules()\n",
    "\n",
    "        correct = 0\n",
    "        for j in range(len(test_df)):\n",
    "            example = test_df.iloc[j]\n",
    "            if decision_tree.predict_class(example) is not None and float(decision_tree.predict_class(example))==example[9]: correct+=1\n",
    "        my_accuracies.append(correct/len(test_df)) \n",
    "    my_accuracies_main.append(my_accuracies)"
   ]
  },
  {
   "cell_type": "code",
   "execution_count": 14,
   "metadata": {},
   "outputs": [
    {
     "name": "stdout",
     "output_type": "stream",
     "text": [
      "Glass Accuracy Mean : 0.693939393939394\n",
      "Glass Accuracy Variance : 0.005047881411517774\n"
     ]
    }
   ],
   "source": [
    "glass_mean_accuracy = np.mean(my_accuracies_main)\n",
    "glass_var = np.var(my_accuracies_main)\n",
    "print(\"Glass Accuracy Mean :\",glass_mean_accuracy)\n",
    "print(\"Glass Accuracy Variance :\",glass_var)"
   ]
  },
  {
   "cell_type": "code",
   "execution_count": 15,
   "metadata": {},
   "outputs": [],
   "source": [
    "df = pd.read_csv('http://archive.ics.uci.edu/ml/machine-learning-databases/tic-tac-toe/tic-tac-toe.data')\n",
    "df.columns = [i for i in range(len(df.columns))]\n",
    "\n",
    "my_accuracies_main = []\n",
    "for _ in range(10):\n",
    "    df=shuffle(df)\n",
    "    my_accuracies = []\n",
    "    for i in range(10):\n",
    "        decision_tree = DecisionTree()\n",
    "        train_df, test_df = train_test_k_fold_split(df, i)\n",
    "        train_data, validation_data=split_training_and_validation(train_df, 0.2)\n",
    "        decision_tree.build_tree(train_data)\n",
    "        decision_tree.prune_tree(validation_data)\n",
    "        decision_tree.get_rules()\n",
    "\n",
    "        correct = 0\n",
    "        for j in range(len(test_df)):\n",
    "            example = test_df.iloc[j]\n",
    "            if decision_tree.predict_class(example) is not None and decision_tree.predict_class(example)==example[9]: correct+=1\n",
    "        my_accuracies.append(correct/len(test_df))\n",
    "    my_accuracies_main.append(my_accuracies)"
   ]
  },
  {
   "cell_type": "code",
   "execution_count": 16,
   "metadata": {},
   "outputs": [
    {
     "name": "stdout",
     "output_type": "stream",
     "text": [
      "Tic-Tac-Toe Accuracy Mean : 0.9358344298245613\n",
      "Tic-Tac-Toe Accuracy Variance : 0.0008504907026681285\n"
     ]
    }
   ],
   "source": [
    "ttt_mean_accuracy = np.mean(my_accuracies_main)\n",
    "ttt_var = np.var(my_accuracies_main)\n",
    "print(\"Tic-Tac-Toe Accuracy Mean :\",ttt_mean_accuracy)\n",
    "print(\"Tic-Tac-Toe Accuracy Variance :\",ttt_var)"
   ]
  },
  {
   "cell_type": "markdown",
   "metadata": {},
   "source": [
    "# **Question 2**\n",
    "\n",
    "There are two possible sources for class label noise:\n",
    "\n",
    "a) Contradictory examples. The same sample appears more than once and is labeled with a different classification.\n",
    "\n",
    "b) Misclassified examples. A sample is labeled with the wrong class. This type of error is common in situations where different classes of data have similar symptoms.\n",
    "\n",
    "To evaluate the impact of class label noise, you should execute your experiments on both datasets, while various levels of noise are added. Then utilize the designed C4.5 learning algorithm from Question 1 to learn from the noisy datasets and evaluate the impact of class label noise (both Contradictory examples & Misclassified examples).\n",
    "\n",
    "● Note: when creating the noisy datasets, select L% of training data randomly and change them. (Try 10-times-10-fold cross validation to calculate the accuracy/error for each experiment.)"
   ]
  },
  {
   "cell_type": "code",
   "execution_count": 17,
   "metadata": {},
   "outputs": [],
   "source": [
    "def generate_misclassified_noise(data, val):    \n",
    "    label_column = data.iloc[:,-1]\n",
    "    unique_classes = np.unique(label_column)\n",
    "    for _ in range(int(val*len(data))):\n",
    "        random_index_for_data = np.random.randint(low=0, high=len(data))\n",
    "        random_index_for_unique_labels = np.random.randint(low=0, high=len(unique_classes))\n",
    "        data.iloc[random_index_for_data,-1]=unique_classes[random_index_for_unique_labels]\n",
    "    return data"
   ]
  },
  {
   "cell_type": "code",
   "execution_count": 62,
   "metadata": {},
   "outputs": [],
   "source": [
    "def generate_contradictory_noise(data, val, unique_classes):    \n",
    "    d=data\n",
    "    for _ in range(int(val*len(data))):\n",
    "        random_index_for_data = np.random.randint(low=0, high=len(data))\n",
    "        new_row=data.iloc[random_index_for_data]\n",
    "        tmp = np.delete(unique_classes,np.where(unique_classes==new_row[9]))\n",
    "        random_index_for_unique_labels = np.random.randint(low=0, high=len(tmp))\n",
    "        new_row[9]=tmp[random_index_for_unique_labels]\n",
    "        d=d.append(new_row)\n",
    "    return d"
   ]
  },
  {
   "cell_type": "markdown",
   "metadata": {},
   "source": [
    "a) Plot one figure for each dataset that shows the noise free classification accuracy along with the classification accuracy for the following noise levels: 5%, 10%, and 15%. Plot the two types of noise on one figure."
   ]
  },
  {
   "cell_type": "markdown",
   "metadata": {},
   "source": [
    "## Glass Dataset"
   ]
  },
  {
   "cell_type": "code",
   "execution_count": 66,
   "metadata": {},
   "outputs": [],
   "source": [
    "df = pd.read_csv('http://archive.ics.uci.edu/ml/machine-learning-databases/glass/glass.data')\n",
    "df=df.drop(df.columns[0], axis=1)\n",
    "df.columns = [i for i in range(len(df.columns))]\n",
    "\n",
    "accuracies_under_misclassified_noise = []\n",
    "noises = [0.05,0.10,0.15]\n",
    "for noise in noises:\n",
    "    my_accuracies_main = []\n",
    "    for _ in range(10):\n",
    "        df=shuffle(df)\n",
    "        my_accuracies = []\n",
    "        for i in range(10):\n",
    "\n",
    "            decision_tree = DecisionTree()\n",
    "            train_df, test_df = train_test_k_fold_split(df, i)\n",
    "            train_df = generate_misclassified_noise(train_df,noise)\n",
    "            train_data, validation_data=split_training_and_validation(train_df, 0.2)\n",
    "            decision_tree.build_tree(train_data)\n",
    "            decision_tree.prune_tree(validation_data)\n",
    "            decision_tree.get_rules()\n",
    "\n",
    "            correct = 0\n",
    "            for j in range(len(test_df)):\n",
    "                example = test_df.iloc[j]\n",
    "                if decision_tree.predict_class(example) is not None and float(decision_tree.predict_class(example))==example[9]: correct+=1\n",
    "            my_accuracies.append(correct/len(test_df))\n",
    "        my_accuracies_main.append(my_accuracies)\n",
    "    accuracies_under_misclassified_noise.append([np.mean(my_accuracies_main),np.var(my_accuracies_main)])"
   ]
  },
  {
   "cell_type": "code",
   "execution_count": 67,
   "metadata": {},
   "outputs": [
    {
     "name": "stdout",
     "output_type": "stream",
     "text": [
      "\n",
      "For Glass Dataset, Misclassified Noise...\n",
      "\n",
      "For No Noise 0% : Mean is 0.6400432900432901  and Variance is 0.010960111317254176\n",
      "For No Noise 5% : Mean is 0.6344588744588744  and Variance is 0.009743574427015986\n",
      "For No Noise 10% : Mean is 0.6007575757575758  and Variance is 0.009743574427015986\n",
      "For No Noise 15% : Mean is 0.5758008658008658  and Variance is 0.011030244935439741\n"
     ]
    }
   ],
   "source": [
    "print(\"\\nFor Glass Dataset, Misclassified Noise...\\n\")\n",
    "print(\"For No Noise 0% : Mean is\",glass_mean_accuracy,\" and Variance is\", glass_var)\n",
    "print(\"For No Noise 5% : Mean is\",accuracies_under_misclassified_noise[0][0],\" and Variance is\", accuracies_under_misclassified_noise[1][1])\n",
    "print(\"For No Noise 10% : Mean is\",accuracies_under_misclassified_noise[1][0],\" and Variance is\", accuracies_under_misclassified_noise[1][1])\n",
    "print(\"For No Noise 15% : Mean is\",accuracies_under_misclassified_noise[2][0],\" and Variance is\", accuracies_under_misclassified_noise[2][1])\n",
    "y_misclassified = [glass_mean_accuracy,accuracies_under_misclassified_noise[0][0]\n",
    "     ,accuracies_under_misclassified_noise[1][0],accuracies_under_misclassified_noise[2][0]]"
   ]
  },
  {
   "cell_type": "code",
   "execution_count": 69,
   "metadata": {},
   "outputs": [
    {
     "name": "stderr",
     "output_type": "stream",
     "text": [
      "/Users/tushar/anaconda3/lib/python3.7/site-packages/ipykernel_launcher.py:8: SettingWithCopyWarning: \n",
      "A value is trying to be set on a copy of a slice from a DataFrame\n",
      "\n",
      "See the caveats in the documentation: http://pandas.pydata.org/pandas-docs/stable/indexing.html#indexing-view-versus-copy\n",
      "  \n"
     ]
    }
   ],
   "source": [
    "df = pd.read_csv('http://archive.ics.uci.edu/ml/machine-learning-databases/glass/glass.data')\n",
    "df=df.drop(df.columns[0], axis=1)\n",
    "df.columns = [i for i in range(len(df.columns))]\n",
    "\n",
    "accuracies_under_contrary_noise = []\n",
    "noises = [0.05,0.10,0.15]\n",
    "for noise in noises:\n",
    "    my_accuracies_main = []\n",
    "    for _ in range(10):\n",
    "        df=shuffle(df)\n",
    "        my_accuracies = []\n",
    "        for i in range(10):\n",
    "\n",
    "            decision_tree = DecisionTree()\n",
    "            train_df, test_df = train_test_k_fold_split(df, i)\n",
    "            train_df = generate_contradictory_noise(train_df,noise, np.unique(df.iloc[:,9]))\n",
    "            train_data, validation_data=split_training_and_validation(train_df, 0.2)\n",
    "            decision_tree.build_tree(train_data)\n",
    "            decision_tree.prune_tree(validation_data)\n",
    "            decision_tree.get_rules()\n",
    "\n",
    "            correct = 0\n",
    "            for j in range(len(test_df)):\n",
    "                example = test_df.iloc[j]\n",
    "                if decision_tree.predict_class(example) is not None and float(decision_tree.predict_class(example))==example[9]: correct+=1\n",
    "            my_accuracies.append(correct/len(test_df))\n",
    "        my_accuracies_main.append(my_accuracies)\n",
    "    accuracies_under_contrary_noise.append([np.mean(my_accuracies_main),np.var(my_accuracies_main)])"
   ]
  },
  {
   "cell_type": "code",
   "execution_count": 70,
   "metadata": {},
   "outputs": [
    {
     "name": "stdout",
     "output_type": "stream",
     "text": [
      "\n",
      "For Glass Dataset, Contradictoy Noise...\n",
      "\n",
      "For No Noise 0% : Mean is 0.6400432900432901  and Variance is 0.010960111317254176\n",
      "For No Noise 5% : Mean is 0.659978354978355  and Variance is 0.013180967373175166\n",
      "For No Noise 10% : Mean is 0.6449350649350647  and Variance is 0.013180967373175166\n",
      "For No Noise 15% : Mean is 0.6385497835497836  and Variance is 0.010844577031914694\n"
     ]
    }
   ],
   "source": [
    "print(\"\\nFor Glass Dataset, Contradictoy Noise...\\n\")\n",
    "print(\"For No Noise 0% : Mean is\",glass_mean_accuracy,\" and Variance is\", glass_var)\n",
    "print(\"For No Noise 5% : Mean is\",accuracies_under_contrary_noise[0][0],\" and Variance is\", accuracies_under_contrary_noise[1][1])\n",
    "print(\"For No Noise 10% : Mean is\",accuracies_under_contrary_noise[1][0],\" and Variance is\", accuracies_under_contrary_noise[1][1])\n",
    "print(\"For No Noise 15% : Mean is\",accuracies_under_contrary_noise[2][0],\" and Variance is\", accuracies_under_contrary_noise[2][1])\n",
    "y_contradictory = [glass_mean_accuracy,accuracies_under_contrary_noise[0][0]\n",
    "     ,accuracies_under_contrary_noise[1][0],accuracies_under_contrary_noise[2][0]]"
   ]
  },
  {
   "cell_type": "code",
   "execution_count": 71,
   "metadata": {},
   "outputs": [
    {
     "data": {
      "image/png": "[encoded data removed]",
      "text/plain": [
       "<Figure size 432x288 with 1 Axes>"
      ]
     },
     "metadata": {
      "needs_background": "light"
     },
     "output_type": "display_data"
    }
   ],
   "source": [
    "plt.plot([\"No Noise\",\"5%\",\"10%\",\"15%\"], y_misclassified, linestyle=\"--\",label=\"Misclassified Noise\")\n",
    "plt.plot([\"No Noise\",\"5%\",\"10%\",\"15%\"], y_contradictory, linestyle=\"--\",label=\"Contradictory Noise\")\n",
    "plt.title(\"Percentage of Misclassified Noise vs Accuracy\")\n",
    "plt.xlabel(\"Percentage of Noise\",)\n",
    "plt.ylabel(\"Accuracy\")\n",
    "plt.legend()\n",
    "plt.show();"
   ]
  },
  {
   "cell_type": "markdown",
   "metadata": {},
   "source": [
    "## Tic-Tac-Toe Glass Dataset"
   ]
  },
  {
   "cell_type": "code",
   "execution_count": 25,
   "metadata": {},
   "outputs": [],
   "source": [
    "df = pd.read_csv('http://archive.ics.uci.edu/ml/machine-learning-databases/tic-tac-toe/tic-tac-toe.data')\n",
    "df.columns = [i for i in range(len(df.columns))]\n",
    "\n",
    "accuracies_under_misclassified_noise = []\n",
    "noises = [0.05,0.10,0.15]\n",
    "for noise in noises:\n",
    "    my_accuracies_main = []\n",
    "    for _ in range(10):\n",
    "        df=shuffle(df)\n",
    "        my_accuracies = []\n",
    "        for i in range(10):\n",
    "            decision_tree = DecisionTree()\n",
    "            train_df, test_df = train_test_k_fold_split(df, i)\n",
    "            train_df = generate_misclassified_noise(train_df,noise)\n",
    "            train_data, validation_data=split_training_and_validation(train_df, 0.2)\n",
    "            decision_tree.build_tree(train_data)\n",
    "            decision_tree.prune_tree(validation_data)\n",
    "            decision_tree.get_rules()\n",
    "\n",
    "            correct = 0\n",
    "            for j in range(len(test_df)):\n",
    "                example = test_df.iloc[j]\n",
    "                if decision_tree.predict_class(example) is not None and decision_tree.predict_class(example)==example[9]: correct+=1\n",
    "            my_accuracies.append(correct/len(test_df))\n",
    "        my_accuracies_main.append(my_accuracies)\n",
    "    accuracies_under_misclassified_noise.append([np.mean(my_accuracies_main),np.var(my_accuracies_main)])"
   ]
  },
  {
   "cell_type": "code",
   "execution_count": 31,
   "metadata": {},
   "outputs": [
    {
     "name": "stdout",
     "output_type": "stream",
     "text": [
      "\n",
      "For Tic-Tac-Toe Dataset, Misclassified Noise...\n",
      "\n",
      "For No Noise 0% : Mean is 0.9358344298245613  and Variance is 0.0008504907026681285\n",
      "[[0.9109594298245615, 0.0010221857626865958], [0.885777412280702, 0.0015275462870787166], [0.8707236842105263, 0.0010063154047399202]]\n",
      "For No Noise 5% : Mean is 0.9109594298245615  and Variance is 0.0015275462870787166\n",
      "For No Noise 10% : Mean is 0.885777412280702  and Variance is 0.0015275462870787166\n",
      "For No Noise 15% : Mean is 0.8707236842105263  and Variance is 0.0010063154047399202\n"
     ]
    }
   ],
   "source": [
    "print(\"\\nFor Tic-Tac-Toe Dataset, Misclassified Noise...\\n\")\n",
    "print(\"For No Noise 0% : Mean is\",ttt_mean_accuracy,\" and Variance is\",ttt_var)\n",
    "\n",
    "print(accuracies_under_misclassified_noise)\n",
    "print(\"For No Noise 5% : Mean is\",accuracies_under_misclassified_noise[0][0],\" and Variance is\", accuracies_under_misclassified_noise[1][1])\n",
    "print(\"For No Noise 10% : Mean is\",accuracies_under_misclassified_noise[1][0],\" and Variance is\", accuracies_under_misclassified_noise[1][1])\n",
    "print(\"For No Noise 15% : Mean is\",accuracies_under_misclassified_noise[2][0],\" and Variance is\", accuracies_under_misclassified_noise[2][1])\n",
    "y_misclassified = [ttt_mean_accuracy,accuracies_under_misclassified_noise[0][0]\n",
    "     ,accuracies_under_misclassified_noise[1][0],accuracies_under_misclassified_noise[2][0]]"
   ]
  },
  {
   "cell_type": "code",
   "execution_count": 63,
   "metadata": {},
   "outputs": [],
   "source": [
    "df = pd.read_csv('http://archive.ics.uci.edu/ml/machine-learning-databases/tic-tac-toe/tic-tac-toe.data')\n",
    "df.columns = [i for i in range(len(df.columns))]\n",
    "\n",
    "accuracies_under_contrary_noise = []\n",
    "noises = [0.05,0.10,0.15]\n",
    "for noise in noises:\n",
    "    my_accuracies_main = []\n",
    "    for _ in range(10):\n",
    "        df=shuffle(df)\n",
    "        my_accuracies = []\n",
    "        for i in range(10):\n",
    "            decision_tree = DecisionTree()\n",
    "            train_df, test_df = train_test_k_fold_split(df, i)\n",
    "            train_df = generate_contradictory_noise(train_df, noise, np.unique(df.iloc[:,9]))\n",
    "            train_data, validation_data=split_training_and_validation(train_df, 0.2)\n",
    "            decision_tree.build_tree(train_data)\n",
    "            decision_tree.prune_tree(validation_data)\n",
    "            decision_tree.get_rules()\n",
    "\n",
    "            correct = 0\n",
    "            for j in range(len(test_df)):\n",
    "                example = test_df.iloc[j]\n",
    "                if decision_tree.predict_class(example) is not None and decision_tree.predict_class(example)==example[9]: correct+=1\n",
    "            my_accuracies.append(correct/len(test_df))\n",
    "        my_accuracies_main.append(my_accuracies)\n",
    "    accuracies_under_contrary_noise.append([np.mean(my_accuracies_main),np.var(my_accuracies_main)])"
   ]
  },
  {
   "cell_type": "code",
   "execution_count": 64,
   "metadata": {},
   "outputs": [
    {
     "name": "stdout",
     "output_type": "stream",
     "text": [
      "\n",
      "For Tic-Tac-Toe Dataset, Contradictoy Noise...\n",
      "\n",
      "For No Noise 0% : Mean is 0.9358344298245613  and Variance is 0.0008504907026681285\n",
      "For No Noise 5% : Mean is 0.9313695175438598  and Variance is 0.0009300528467893965\n",
      "For No Noise 10% : Mean is 0.9243366228070176  and Variance is 0.0009300528467893965\n",
      "For No Noise 15% : Mean is 0.9213201754385968  and Variance is 0.0007565751769775313\n"
     ]
    }
   ],
   "source": [
    "print(\"\\nFor Tic-Tac-Toe Dataset, Contradictoy Noise...\\n\")\n",
    "print(\"For No Noise 0% : Mean is\",ttt_mean_accuracy,\" and Variance is\", ttt_var)\n",
    "print(\"For No Noise 5% : Mean is\",accuracies_under_contrary_noise[0][0],\" and Variance is\", accuracies_under_contrary_noise[1][1])\n",
    "print(\"For No Noise 10% : Mean is\",accuracies_under_contrary_noise[1][0],\" and Variance is\", accuracies_under_contrary_noise[1][1])\n",
    "print(\"For No Noise 15% : Mean is\",accuracies_under_contrary_noise[2][0],\" and Variance is\", accuracies_under_contrary_noise[2][1])\n",
    "y_contradictory = [ttt_mean_accuracy,accuracies_under_contrary_noise[0][0]\n",
    "     ,accuracies_under_contrary_noise[1][0],accuracies_under_contrary_noise[2][0]]"
   ]
  },
  {
   "cell_type": "code",
   "execution_count": 65,
   "metadata": {},
   "outputs": [
    {
     "data": {
      "image/png": "[encoded data removed]",
      "text/plain": [
       "<Figure size 432x288 with 1 Axes>"
      ]
     },
     "metadata": {
      "needs_background": "light"
     },
     "output_type": "display_data"
    }
   ],
   "source": [
    "plt.plot([\"No Noise\",\"5%\",\"10%\",\"15%\"], y_misclassified, linestyle=\"--\",label=\"Misclassified Noise\")\n",
    "plt.plot([\"No Noise\",\"5%\",\"10%\",\"15%\"], y_contradictory, linestyle=\"--\",label=\"Contradictory Noise\")\n",
    "plt.title(\"Percentage of Misclassified Noise vs Accuracy\")\n",
    "plt.xlabel(\"Percentage of Noise\",)\n",
    "plt.ylabel(\"Accuracy\")\n",
    "plt.legend()\n",
    "plt.show();"
   ]
  },
  {
   "cell_type": "markdown",
   "metadata": {},
   "source": [
    "b) How do you explain the effect of noise on the C4.5 method?"
   ]
  },
  {
   "cell_type": "markdown",
   "metadata": {},
   "source": [
    "Answer in the report."
   ]
  }
 ],
 "metadata": {
  "kernelspec": {
   "display_name": "Python 3",
   "language": "python",
   "name": "python3"
  },
  "language_info": {
   "codemirror_mode": {
    "name": "ipython",
    "version": 3
   },
   "file_extension": ".py",
   "mimetype": "text/x-python",
   "name": "python",
   "nbconvert_exporter": "python",
   "pygments_lexer": "ipython3",
   "version": "3.7.1"
  }
 },
 "nbformat": 4,
 "nbformat_minor": 2
}
