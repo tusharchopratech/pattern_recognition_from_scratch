{
 "cells": [
  {
   "cell_type": "markdown",
   "metadata": {},
   "source": [
    "Datasets Description\n",
    "\n",
    "The UCI Machine Learning Repository is a collection of databases, domain theories, and data generators that are used by the machine learning community for the empirical analysis of machine learning algorithms.\n",
    "\n",
    "Datasets are available on http://archive.ics.uci.edu/ml/datasets.html For this homework assignment, you need to download the datasets “glass” and “Tic-Tac-Toe Endgame” from the above link. The “glass” dataset is categorical and the “Tic-Tac-Toe” dataset is continuous."
   ]
  },
  {
   "cell_type": "markdown",
   "metadata": {},
   "source": [
    "# **Question 1**\n",
    "\n",
    "Design a C4.5 decision tree classifier to classify each dataset mentioned above. Report the accuracy based on the 10-times-10-fold cross validation approach (20% of training set as the validation set for every experiment). Report the mean accuracy and the variance of the accuracy for each experiment."
   ]
  },
  {
   "cell_type": "code",
   "execution_count": 1,
   "metadata": {},
   "outputs": [],
   "source": [
    "from sklearn.tree import DecisionTreeClassifier\n",
    "import pandas as pd\n",
    "import numpy as np\n",
    "import random\n",
    "from pprint import pprint\n",
    "import matplotlib.pyplot as plt"
   ]
  },
  {
   "cell_type": "code",
   "execution_count": 2,
   "metadata": {},
   "outputs": [],
   "source": [
    "def train_test_split(df, test_size):\n",
    "    \n",
    "    if isinstance(test_size, float):\n",
    "        test_size = round(test_size * len(df))\n",
    "\n",
    "    indices = df.index.tolist()\n",
    "    test_indices = random.sample(population=indices, k=test_size)\n",
    "\n",
    "    test_df = df.loc[test_indices]\n",
    "    train_df = df.drop(test_indices)\n",
    "    \n",
    "    return train_df, test_df"
   ]
  },
  {
   "cell_type": "code",
   "execution_count": 3,
   "metadata": {},
   "outputs": [],
   "source": [
    "def check_purity(data):\n",
    "    \n",
    "    label_column = data[:, -1]\n",
    "    unique_classes = np.unique(label_column)\n",
    "\n",
    "    if len(unique_classes) == 1:\n",
    "        return True\n",
    "    else:\n",
    "        return False"
   ]
  },
  {
   "cell_type": "code",
   "execution_count": 4,
   "metadata": {},
   "outputs": [],
   "source": [
    "def classify_data(data):\n",
    "    \n",
    "    label_column = data[:, -1]\n",
    "    unique_classes, counts_unique_classes = np.unique(label_column, return_counts=True)\n",
    "\n",
    "    index = counts_unique_classes.argmax()\n",
    "    classification = unique_classes[index]\n",
    "    \n",
    "    return classification"
   ]
  },
  {
   "cell_type": "code",
   "execution_count": 5,
   "metadata": {},
   "outputs": [],
   "source": [
    "def get_potential_splits(data):\n",
    "    \n",
    "    potential_splits = {}\n",
    "    _, n_columns = data.shape\n",
    "    for column_index in range(n_columns - 1):          # excluding the last column which is the label\n",
    "        values = data[:, column_index]\n",
    "        unique_values = np.unique(values)\n",
    "        \n",
    "        potential_splits[column_index] = unique_values\n",
    "    \n",
    "    return potential_splits"
   ]
  },
  {
   "cell_type": "code",
   "execution_count": 6,
   "metadata": {},
   "outputs": [],
   "source": [
    "def split_data(data, split_column, split_value):\n",
    "    \n",
    "    split_column_values = data[:, split_column]\n",
    "\n",
    "    type_of_feature = FEATURE_TYPES[split_column]\n",
    "    if type_of_feature == \"continuous\":\n",
    "        data_below = data[split_column_values <= split_value]\n",
    "        data_above = data[split_column_values >  split_value]\n",
    "    \n",
    "    # feature is categorical   \n",
    "    else:\n",
    "        data_below = data[split_column_values == split_value]\n",
    "        data_above = data[split_column_values != split_value]\n",
    "    \n",
    "    return data_below, data_above"
   ]
  },
  {
   "cell_type": "code",
   "execution_count": 7,
   "metadata": {},
   "outputs": [],
   "source": [
    "def calculate_entropy(data):\n",
    "    \n",
    "    label_column = data[:, -1]\n",
    "    _, counts = np.unique(label_column, return_counts=True)\n",
    "\n",
    "    probabilities = counts / counts.sum()\n",
    "    entropy = sum(probabilities * -np.log2(probabilities))\n",
    "     \n",
    "    return entropy"
   ]
  },
  {
   "cell_type": "code",
   "execution_count": 8,
   "metadata": {},
   "outputs": [],
   "source": [
    "def calculate_overall_entropy(data_below, data_above):\n",
    "    \n",
    "    n = len(data_below) + len(data_above)\n",
    "    p_data_below = len(data_below) / n\n",
    "    p_data_above = len(data_above) / n\n",
    "\n",
    "    overall_entropy =  (p_data_below * calculate_entropy(data_below) \n",
    "                      + p_data_above * calculate_entropy(data_above))\n",
    "    \n",
    "    return overall_entropy"
   ]
  },
  {
   "cell_type": "code",
   "execution_count": 9,
   "metadata": {},
   "outputs": [],
   "source": [
    "def determine_best_split(data, potential_splits):\n",
    "    \n",
    "    overall_entropy = 9999\n",
    "    for column_index in potential_splits:\n",
    "        for value in potential_splits[column_index]:\n",
    "            data_below, data_above = split_data(data, split_column=column_index, split_value=value)\n",
    "            current_overall_entropy = calculate_overall_entropy(data_below, data_above)\n",
    "\n",
    "            if current_overall_entropy <= overall_entropy:\n",
    "                overall_entropy = current_overall_entropy\n",
    "                best_split_column = column_index\n",
    "                best_split_value = value\n",
    "    \n",
    "    return best_split_column, best_split_value"
   ]
  },
  {
   "cell_type": "code",
   "execution_count": 10,
   "metadata": {},
   "outputs": [],
   "source": [
    "def determine_type_of_feature(df):\n",
    "    \n",
    "    feature_types = []\n",
    "    n_unique_values_treshold = 15\n",
    "    for feature in df.columns:\n",
    "        if feature != \"label\":\n",
    "            unique_values = df[feature].unique()\n",
    "            example_value = unique_values[0]\n",
    "\n",
    "            if (isinstance(example_value, str)) or (len(unique_values) <= n_unique_values_treshold):\n",
    "                feature_types.append(\"categorical\")\n",
    "            else:\n",
    "                feature_types.append(\"continuous\")\n",
    "    \n",
    "    return feature_types"
   ]
  },
  {
   "cell_type": "code",
   "execution_count": 681,
   "metadata": {},
   "outputs": [],
   "source": [
    "class Node: \n",
    "    def __init__(self, data): \n",
    "        self.data = data \n",
    "        self.left = None\n",
    "        self.right = None\n",
    "        \n",
    "class DecisionTree:\n",
    "    \n",
    "    def __init__(self): \n",
    "        self.root_main = None\n",
    "        self.rules = []\n",
    "    \n",
    "    def build_tree(self, df, root=None, pointer=\"S\", counter=0):\n",
    "\n",
    "        # data preparations\n",
    "        if counter == 0:\n",
    "            global COLUMN_HEADERS, FEATURE_TYPES\n",
    "            COLUMN_HEADERS = df.columns\n",
    "            FEATURE_TYPES = determine_type_of_feature(df)\n",
    "            data = df.values\n",
    "        else:\n",
    "            data = df           \n",
    "\n",
    "        # base cases\n",
    "        if (check_purity(data)):\n",
    "            classification = classify_data(data)\n",
    "            node = Node(classification)\n",
    "            if pointer is \"L\":\n",
    "                root.left=node\n",
    "                root=node\n",
    "            if pointer is \"R\":\n",
    "                root.right=node\n",
    "                root=node\n",
    "            return \n",
    "        # recursive part\n",
    "        else:    \n",
    "            counter += 1\n",
    "\n",
    "            # helper functions \n",
    "            potential_splits = get_potential_splits(data)\n",
    "            split_column, split_value = determine_best_split(data, potential_splits)\n",
    "            data_below, data_above = split_data(data, split_column, split_value)\n",
    "\n",
    "            # check for empty data\n",
    "            if len(data_below) == 0 or len(data_above) == 0:\n",
    "                classification = classify_data(data)\n",
    "                node = Node(classification)\n",
    "                if pointer is \"L\":\n",
    "                    root.left=node\n",
    "                    root=node\n",
    "                if pointer is \"R\":\n",
    "                    root.right=node\n",
    "                    root=node\n",
    "                return\n",
    "\n",
    "            # determine question\n",
    "            feature_name = COLUMN_HEADERS[split_column]\n",
    "            type_of_feature = FEATURE_TYPES[split_column]\n",
    "            if type_of_feature == \"continuous\":\n",
    "                question = \"{} <= {}\".format(feature_name, split_value)\n",
    "\n",
    "            # feature is categorical\n",
    "            else:\n",
    "                question = \"{} = {}\".format(feature_name, split_value)\n",
    "\n",
    "            # instantiate sub-tree\n",
    "            if pointer is \"S\":\n",
    "                root=Node(question)\n",
    "                self.root_main = root\n",
    "            else:\n",
    "    #             sub_tree = {question: []}\n",
    "\n",
    "                # find answers (recursion) \n",
    "                node = Node(question)\n",
    "                if pointer is \"L\":\n",
    "                    root.left=node   \n",
    "                    root=node\n",
    "\n",
    "                if pointer is \"R\":\n",
    "                    root.right=node\n",
    "                    root=node\n",
    "\n",
    "            self.build_tree(data_below, root, \"L\", counter)\n",
    "            self.build_tree(data_above, root, \"R\", counter)\n",
    "\n",
    "            return self.root_main\n",
    "         \n",
    "    def convert_tree_to_rules(self, path=[], pathLen=0, status=\"\"):\n",
    "        root = self.root_main\n",
    "        self.get_paths(root,path,pathLen,status)\n",
    "        ar = np.array(self.rules)\n",
    "        for i in range(len(self.rules)):\n",
    "            for j in range(len(self.rules[i])):\n",
    "                if \"R\" in self.rules[i][j]:\n",
    "                    feature_name, comparison_operator, value = self.rules[i][j-1].split(\" \")\n",
    "                    self.rules[i][j-1] = \"{} > {}\".format(feature_name, value) \n",
    "                self.rules[i][j]=self.rules[i][j].replace('R', '')\n",
    "                self.rules[i][j]=self.rules[i][j].replace('L', '')\n",
    "        return self.rules\n",
    "        \n",
    "    def printArray(self, ints, len): \n",
    "        array = []\n",
    "        for i in ints[0 : len]:\n",
    "            array.append(str(i))\n",
    "        self.rules.append(array)\n",
    "    \n",
    "    def get_paths(self, root, path, pathLen, status):\n",
    "\n",
    "        if root is None: \n",
    "            return\n",
    "\n",
    "        if(len(path) > pathLen):  \n",
    "            path[pathLen] = status+str(root.data) \n",
    "        else: \n",
    "            path.append(status+str(root.data))\n",
    "\n",
    "        pathLen = pathLen + 1\n",
    "\n",
    "        if root.left is None and root.right is None: \n",
    "            self.printArray(path, pathLen) \n",
    "        else: \n",
    "            self.get_paths(root.left, path, pathLen, \"L\") \n",
    "            self.get_paths(root.right, path, pathLen, \"R\") \n",
    "\n",
    "    def get_class_of_sample_from_rule(self, rule, sample):\n",
    "        \n",
    "        sample = [float(val) for val in sample]\n",
    "        sample_class = None\n",
    "        for i in range(len(rule)):\n",
    "            if i < len(rule) - 1:\n",
    "                feature_index, comparison_operator, value = rule[i].split(\" \")\n",
    "                if FEATURE_TYPES[int(feature_index)] == \"continuous\":\n",
    "                    if comparison_operator == \"<=\":\n",
    "                        if not sample[int(feature_index)] <= float(value):\n",
    "                            break\n",
    "                    elif comparison_operator == \">\":\n",
    "                        if not sample[int(feature_index)] > float(value):\n",
    "                            break\n",
    "                else:\n",
    "                    pass\n",
    "            else:\n",
    "                sample_class = rule[len(rule)-1]\n",
    "                \n",
    "        return sample_class\n",
    "            \n",
    "    def prune_rule(self, rule, validation_data):\n",
    "        \n",
    "        base_rule = rule\n",
    "        old_accuracy = 0\n",
    "        new_rule = rule\n",
    "        new_accuracy = 0.0\n",
    "        base_accuracy = 0\n",
    "        \n",
    "        flag = 1\n",
    "        for total_rule_elements in range(len(rule)-1, 2, -1):\n",
    "            \n",
    "            my_rule = rule[:total_rule_elements]\n",
    "            my_rule.append(rule[len(rule)-1])\n",
    "            accuracy = 0\n",
    "\n",
    "            for i in range(len(validation_data)):\n",
    "                predict_class = self.get_class_of_sample_from_rule(my_rule, validation_data[i])\n",
    "                if predict_class == str(validation_data[i][9]):\n",
    "                    accuracy +=1\n",
    "            if flag == 1:\n",
    "                base_accuracy = accuracy/len(validation_data)\n",
    "                old_accuracy=base_accuracy\n",
    "                new_accuracy=base_accuracy\n",
    "                new_rule = my_rule\n",
    "                flag=0\n",
    "            else:\n",
    "                new_accuracy = accuracy/len(validation_data)\n",
    "                if new_accuracy > old_accuracy:\n",
    "                    new_rule = my_rule\n",
    "                    old_accuracy = new_accuracy\n",
    "                if new_accuracy == 1.0:\n",
    "                    break\n",
    "                           \n",
    "        return base_rule, base_accuracy, new_rule, new_accuracy\n",
    "    \n",
    "    \n",
    "    def prune_tree(self):\n",
    "        self.convert_tree_to_rules()\n",
    "\n",
    "#         for rule in self.rules:\n",
    "#             print(rule)\n",
    "            \n",
    "        for i, rule in enumerate(self.rules):\n",
    "            rule_label = rule[len(rule)-1]\n",
    "            filtered_validation_data =validation_data.values[np.where(validation_data.values[:,-1] == float(rule_label))]\n",
    "            if len(filtered_validation_data)>0:\n",
    "                old_rule, old_accurcay, new_rule, new_accuracy = self.prune_rule(rule, filtered_validation_data)\n",
    "                new_rule = [new_accuracy] + new_rule\n",
    "                self.rules[i] = new_rule\n",
    "            \n",
    "        self.rules.sort(key=lambda x: x[0])\n",
    "        self.rules = self.rules[::-1]\n",
    "#         for rule in self.rules:\n",
    "#             print(rule)\n",
    "\n",
    "    \n",
    "    def get_rules(self): \n",
    "        self.rules = [val[1:] for val in self.rules]\n",
    "        return self.rules\n",
    "    \n",
    "    def predict_class(self, sample):\n",
    "        sample_class = None\n",
    "        for rule in self.rules:\n",
    "            sample_class = self.get_class_of_sample_from_rule(rule,sample)\n",
    "            if sample_class is not None:\n",
    "                break\n",
    "        return sample_class\n",
    "        "
   ]
  },
  {
   "cell_type": "code",
   "execution_count": 362,
   "metadata": {},
   "outputs": [],
   "source": [
    "def classify_example(example, tree):\n",
    "    question = list(tree.keys())[0]\n",
    "    feature_name, comparison_operator, value = question.split(\" \")\n",
    "\n",
    "    if comparison_operator == \"<=\":\n",
    "        if example[feature_name] <= float(value):\n",
    "            answer = tree[question][0]\n",
    "        else:\n",
    "            answer = tree[question][1]\n",
    "    \n",
    "    else:\n",
    "        if str(example[feature_name]) == value:\n",
    "            answer = tree[question][0]\n",
    "        else:\n",
    "            answer = tree[question][1]\n",
    "\n",
    "    if not isinstance(answer, dict):\n",
    "        return answer\n",
    "    \n",
    "    else:\n",
    "        residual_tree = answer\n",
    "        return classify_example(example, residual_tree)"
   ]
  },
  {
   "cell_type": "code",
   "execution_count": 632,
   "metadata": {},
   "outputs": [],
   "source": [
    "import random\n",
    "def train_test_k_fold_split(df, fold):\n",
    "    indices = df.index.tolist()\n",
    "    random.shuffle(indices)\n",
    "    low = int((fold/10)*len(indices))\n",
    "    high = int(((fold+1)/10)*len(indices))\n",
    "    test_indices=indices[low:high]\n",
    "    test_df = df.loc[test_indices]\n",
    "    train_df = df.drop(test_indices)\n",
    "    return train_df, test_df"
   ]
  },
  {
   "cell_type": "code",
   "execution_count": 629,
   "metadata": {},
   "outputs": [],
   "source": [
    "import random\n",
    "def split_training_and_validation(df, division):\n",
    "    indices = df.index.tolist()\n",
    "    random.shuffle(indices)\n",
    "    validation_indices=indices[int((1-division)*len(indices)):]\n",
    "    validation_df = df.loc[validation_indices]\n",
    "    train_df = df.drop(validation_indices)\n",
    "    return train_df, validation_df"
   ]
  },
  {
   "cell_type": "code",
   "execution_count": 711,
   "metadata": {},
   "outputs": [
    {
     "name": "stdout",
     "output_type": "stream",
     "text": [
      "0.38095238095238093\n"
     ]
    }
   ],
   "source": [
    "df = pd.read_csv('http://archive.ics.uci.edu/ml/machine-learning-databases/glass/glass.data')\n",
    "df=df.drop(df.columns[0], axis=1)\n",
    "df.columns = [i for i in range(len(df.columns))]\n",
    "\n",
    "\n",
    "train_df, test_df = train_test_k_fold_split(df, 1)\n",
    "train_data, validation_data=split_training_and_validation(train_df, 0.2)\n",
    "\n",
    "decision_tree = DecisionTree()\n",
    "\n",
    "tree_root = decision_tree.build_tree(train_data)\n",
    "decision_tree.prune_tree()\n",
    "rules = decision_tree.get_rules()\n",
    "\n",
    "# print(test_df)\n",
    "\n",
    "correct = 0\n",
    "for j in range(len(test_df)):\n",
    "    example = test_df.iloc[j]\n",
    "    if float(decision_tree.predict_class(example))==example[9]: correct+=1\n",
    "    \n",
    "print(correct/len(test_df))\n",
    "\n",
    "# for i in range(len(rules)):\n",
    "#     print(rules[i])"
   ]
  },
  {
   "cell_type": "code",
   "execution_count": null,
   "metadata": {},
   "outputs": [],
   "source": []
  },
  {
   "cell_type": "code",
   "execution_count": null,
   "metadata": {},
   "outputs": [],
   "source": []
  },
  {
   "cell_type": "code",
   "execution_count": null,
   "metadata": {},
   "outputs": [],
   "source": []
  },
  {
   "cell_type": "code",
   "execution_count": null,
   "metadata": {},
   "outputs": [],
   "source": []
  },
  {
   "cell_type": "code",
   "execution_count": null,
   "metadata": {},
   "outputs": [],
   "source": []
  },
  {
   "cell_type": "code",
   "execution_count": null,
   "metadata": {},
   "outputs": [],
   "source": []
  },
  {
   "cell_type": "code",
   "execution_count": null,
   "metadata": {},
   "outputs": [],
   "source": []
  },
  {
   "cell_type": "code",
   "execution_count": null,
   "metadata": {},
   "outputs": [],
   "source": []
  },
  {
   "cell_type": "code",
   "execution_count": null,
   "metadata": {},
   "outputs": [],
   "source": []
  },
  {
   "cell_type": "code",
   "execution_count": null,
   "metadata": {},
   "outputs": [],
   "source": []
  },
  {
   "cell_type": "code",
   "execution_count": null,
   "metadata": {},
   "outputs": [],
   "source": []
  },
  {
   "cell_type": "code",
   "execution_count": null,
   "metadata": {},
   "outputs": [],
   "source": []
  },
  {
   "cell_type": "markdown",
   "metadata": {},
   "source": [
    "## Glass Dataset"
   ]
  },
  {
   "cell_type": "code",
   "execution_count": 44,
   "metadata": {},
   "outputs": [
    {
     "name": "stdout",
     "output_type": "stream",
     "text": [
      "Glass Mean Accuracy:  0.47597402597402594\n",
      "Glass Accucarcy Varianse:  0.040414769213470515\n"
     ]
    }
   ],
   "source": [
    "df = pd.read_csv('http://archive.ics.uci.edu/ml/machine-learning-databases/glass/glass.data')df.columns = ['f'+str(i) for i in range(len(df.columns))]\n",
    "df=df.drop(df.columns[0], axis=1)\n",
    "\n",
    "my_accuracies = []\n",
    "sk_accuracies = []\n",
    "\n",
    "for i in range(10):\n",
    "    train_df, test_df = train_test_k_fold_split(df, i)\n",
    "    tree = decision_tree_algorithm(train_df)\n",
    "   \n",
    "    d=np.array(train_df)\n",
    "    X_train = d[:,0:]\n",
    "    y_train = d[:,9]\n",
    "    clf = DecisionTreeClassifier()\n",
    "    clf.fit(X_train,y_train)\n",
    "    \n",
    "    correct = 0\n",
    "    correct_sk = 0\n",
    "    for j in range(len(test_df)):\n",
    "        example = test_df.iloc[j]\n",
    "        if classify_example(example, tree)==example[9]: correct+=1\n",
    "        if clf.predict([example])==example[9]: correct_sk+=1\n",
    "    \n",
    "    \n",
    "    my_accuracies.append(correct/len(test_df))\n",
    "    sk_accuracies.append(correct_sk/len(test_df))\n",
    "\n",
    "# print(my_accuracies)\n",
    "glass_mean_accuracy = np.mean(my_accuracies)\n",
    "glass_variance = np.var(my_accuracies)\n",
    "print(\"Glass Mean Accuracy: \",glass_mean_accuracy)\n",
    "print(\"Glass Accucarcy Varianse: \",glass_variance)\n",
    "# print(sk_accuracies)"
   ]
  },
  {
   "cell_type": "code",
   "execution_count": 339,
   "metadata": {},
   "outputs": [
    {
     "name": "stdout",
     "output_type": "stream",
     "text": [
      "f3 <= 2.68  f2 <= 13.78,R  f4 <= 1.36,R  f7 <= 8.93,R  7.0,R  \n",
      "f3 <= 2.68  f2 <= 13.78,R  f4 <= 1.36,R  f7 <= 8.93,R  2.0  \n",
      "f3 <= 2.68  f2 <= 13.78,R  f4 <= 1.36,R  f9 <= 0.0  5.0  \n",
      "f3 <= 2.68  f2 <= 13.78,R  f4 <= 1.36,R  f9 <= 0.0  f9 <= 0.34  f6 <= 0.13,R  5.0,R  \n",
      "f3 <= 2.68  f2 <= 13.78,R  f4 <= 1.36,R  f9 <= 0.0  f9 <= 0.34  f6 <= 0.13,R  2.0  \n",
      "f3 <= 2.68  f2 <= 13.78,R  f4 <= 1.36,R  f9 <= 0.0  f9 <= 0.34  5.0  \n",
      "f3 <= 2.68  f2 <= 13.78,R  f8 <= 0.0  f6 <= 0.0  6.0  \n",
      "f3 <= 2.68  f2 <= 13.78,R  f8 <= 0.0  f6 <= 0.0  f9 <= 0.0  7.0  \n",
      "f3 <= 2.68  f2 <= 13.78,R  f8 <= 0.0  f6 <= 0.0  f9 <= 0.0  2.0  \n",
      "f3 <= 2.68  f2 <= 13.78,R  f8 <= 0.0  f7 <= 5.87  5.0  \n",
      "f3 <= 2.68  f2 <= 13.78,R  f8 <= 0.0  f7 <= 5.87  7.0  \n",
      "f3 <= 2.68  f4 <= 1.4  f1 <= 1.51694  f1 <= 1.51589  1.0  \n",
      "f3 <= 2.68  f4 <= 1.4  f1 <= 1.51694  f1 <= 1.51589  f5 <= 72.7  3.0  \n",
      "f3 <= 2.68  f4 <= 1.4  f1 <= 1.51694  f1 <= 1.51589  f5 <= 72.7  f5 <= 72.88  2.0  \n",
      "f3 <= 2.68  f4 <= 1.4  f1 <= 1.51694  f1 <= 1.51589  f5 <= 72.7  f5 <= 72.88  f9 <= 0.0  3.0,R  \n",
      "f3 <= 2.68  f4 <= 1.4  f1 <= 1.51694  f1 <= 1.51589  f5 <= 72.7  f5 <= 72.88  f9 <= 0.0  2.0  \n",
      "f3 <= 2.68  f4 <= 1.4  f1 <= 1.51694  f6 <= 0.23  f7 <= 10.17  f5 <= 72.64  f2 <= 13.99  1.0  \n",
      "f3 <= 2.68  f4 <= 1.4  f1 <= 1.51694  f6 <= 0.23  f7 <= 10.17  f5 <= 72.64  f2 <= 13.99  f2 <= 14.32  f7 <= 9.65,R  3.0,R  \n",
      "f3 <= 2.68  f4 <= 1.4  f1 <= 1.51694  f6 <= 0.23  f7 <= 10.17  f5 <= 72.64  f2 <= 13.99  f2 <= 14.32  f7 <= 9.65,R  1.0  \n",
      "f3 <= 2.68  f4 <= 1.4  f1 <= 1.51694  f6 <= 0.23  f7 <= 10.17  f5 <= 72.64  f2 <= 13.99  f2 <= 14.32  1.0  \n",
      "f3 <= 2.68  f4 <= 1.4  f1 <= 1.51694  f6 <= 0.23  f7 <= 10.17  f5 <= 72.64  3.0  \n",
      "f3 <= 2.68  f4 <= 1.4  f1 <= 1.51694  f6 <= 0.23  f7 <= 10.17  2.0  \n",
      "f3 <= 2.68  f4 <= 1.4  f1 <= 1.51694  f6 <= 0.23  f3 <= 3.74  f4 <= 1.16  f9 <= 0.0  f6 <= 0.54  2.0  \n",
      "f3 <= 2.68  f4 <= 1.4  f1 <= 1.51694  f6 <= 0.23  f3 <= 3.74  f4 <= 1.16  f9 <= 0.0  f6 <= 0.54  1.0  \n",
      "f3 <= 2.68  f4 <= 1.4  f1 <= 1.51694  f6 <= 0.23  f3 <= 3.74  f4 <= 1.16  f9 <= 0.0  2.0  \n",
      "f3 <= 2.68  f4 <= 1.4  f1 <= 1.51694  f6 <= 0.23  f3 <= 3.74  f4 <= 1.16  f9 <= 0.3  f1 <= 1.51926  1.0  \n",
      "f3 <= 2.68  f4 <= 1.4  f1 <= 1.51694  f6 <= 0.23  f3 <= 3.74  f4 <= 1.16  f9 <= 0.3  f1 <= 1.51926  7.0  \n",
      "f3 <= 2.68  f4 <= 1.4  f1 <= 1.51694  f6 <= 0.23  f3 <= 3.74  f4 <= 1.16  f9 <= 0.3  2.0  \n",
      "f3 <= 2.68  f4 <= 1.4  f1 <= 1.51694  f6 <= 0.23  f3 <= 3.74  2.0  \n",
      "f3 <= 2.68  f4 <= 1.4  f3 <= 3.45  f5 <= 72.81  f8 <= 0.0  f7 <= 8.6  f9 <= 0.0  2.0  \n",
      "f3 <= 2.68  f4 <= 1.4  f3 <= 3.45  f5 <= 72.81  f8 <= 0.0  f7 <= 8.6  f9 <= 0.0  3.0  \n",
      "f3 <= 2.68  f4 <= 1.4  f3 <= 3.45  f5 <= 72.81  f8 <= 0.0  f7 <= 8.6  3.0  \n",
      "f3 <= 2.68  f4 <= 1.4  f3 <= 3.45  f5 <= 72.81  f8 <= 0.0  7.0  \n",
      "f3 <= 2.68  f4 <= 1.4  f3 <= 3.45  f5 <= 72.81  2.0  \n",
      "f3 <= 2.68  f4 <= 1.4  f3 <= 3.45  f9 <= 0.15  f6 <= 0.54  f5 <= 72.72  2.0  \n",
      "f3 <= 2.68  f4 <= 1.4  f3 <= 3.45  f9 <= 0.15  f6 <= 0.54  f5 <= 72.72  f6 <= 0.38  2.0  \n",
      "f3 <= 2.68  f4 <= 1.4  f3 <= 3.45  f9 <= 0.15  f6 <= 0.54  f5 <= 72.72  f6 <= 0.38  1.0  \n",
      "f3 <= 2.68  f4 <= 1.4  f3 <= 3.45  f9 <= 0.15  f6 <= 0.54  2.0  \n",
      "f3 <= 2.68  f4 <= 1.4  f3 <= 3.45  f9 <= 0.15  f2 <= 12.82  1.0  \n",
      "f3 <= 2.68  f4 <= 1.4  f3 <= 3.45  f9 <= 0.15  f2 <= 12.82  2.0  \n"
     ]
    }
   ],
   "source": []
  },
  {
   "cell_type": "code",
   "execution_count": 224,
   "metadata": {},
   "outputs": [
    {
     "data": {
      "text/plain": [
       "<__main__.Node at 0x1a200b86d8>"
      ]
     },
     "execution_count": 224,
     "metadata": {},
     "output_type": "execute_result"
    }
   ],
   "source": [
    "tree"
   ]
  },
  {
   "cell_type": "code",
   "execution_count": 225,
   "metadata": {},
   "outputs": [
    {
     "ename": "TypeError",
     "evalue": "Object of type Node is not JSON serializable",
     "output_type": "error",
     "traceback": [
      "\u001b[0;31m---------------------------------------------------------------------------\u001b[0m",
      "\u001b[0;31mTypeError\u001b[0m                                 Traceback (most recent call last)",
      "\u001b[0;32m<ipython-input-225-12eed5b2f97c>\u001b[0m in \u001b[0;36m<module>\u001b[0;34m\u001b[0m\n\u001b[1;32m      1\u001b[0m \u001b[0;32mimport\u001b[0m \u001b[0mjson\u001b[0m\u001b[0;34m\u001b[0m\u001b[0;34m\u001b[0m\u001b[0m\n\u001b[0;32m----> 2\u001b[0;31m \u001b[0mr\u001b[0m \u001b[0;34m=\u001b[0m \u001b[0mjson\u001b[0m\u001b[0;34m.\u001b[0m\u001b[0mdumps\u001b[0m\u001b[0;34m(\u001b[0m\u001b[0mtree\u001b[0m\u001b[0;34m)\u001b[0m\u001b[0;34m\u001b[0m\u001b[0;34m\u001b[0m\u001b[0m\n\u001b[0m\u001b[1;32m      3\u001b[0m \u001b[0mr\u001b[0m\u001b[0;34m\u001b[0m\u001b[0;34m\u001b[0m\u001b[0m\n",
      "\u001b[0;32m~/anaconda3/lib/python3.7/json/__init__.py\u001b[0m in \u001b[0;36mdumps\u001b[0;34m(obj, skipkeys, ensure_ascii, check_circular, allow_nan, cls, indent, separators, default, sort_keys, **kw)\u001b[0m\n\u001b[1;32m    229\u001b[0m         \u001b[0mcls\u001b[0m \u001b[0;32mis\u001b[0m \u001b[0;32mNone\u001b[0m \u001b[0;32mand\u001b[0m \u001b[0mindent\u001b[0m \u001b[0;32mis\u001b[0m \u001b[0;32mNone\u001b[0m \u001b[0;32mand\u001b[0m \u001b[0mseparators\u001b[0m \u001b[0;32mis\u001b[0m \u001b[0;32mNone\u001b[0m \u001b[0;32mand\u001b[0m\u001b[0;34m\u001b[0m\u001b[0;34m\u001b[0m\u001b[0m\n\u001b[1;32m    230\u001b[0m         default is None and not sort_keys and not kw):\n\u001b[0;32m--> 231\u001b[0;31m         \u001b[0;32mreturn\u001b[0m \u001b[0m_default_encoder\u001b[0m\u001b[0;34m.\u001b[0m\u001b[0mencode\u001b[0m\u001b[0;34m(\u001b[0m\u001b[0mobj\u001b[0m\u001b[0;34m)\u001b[0m\u001b[0;34m\u001b[0m\u001b[0;34m\u001b[0m\u001b[0m\n\u001b[0m\u001b[1;32m    232\u001b[0m     \u001b[0;32mif\u001b[0m \u001b[0mcls\u001b[0m \u001b[0;32mis\u001b[0m \u001b[0;32mNone\u001b[0m\u001b[0;34m:\u001b[0m\u001b[0;34m\u001b[0m\u001b[0;34m\u001b[0m\u001b[0m\n\u001b[1;32m    233\u001b[0m         \u001b[0mcls\u001b[0m \u001b[0;34m=\u001b[0m \u001b[0mJSONEncoder\u001b[0m\u001b[0;34m\u001b[0m\u001b[0;34m\u001b[0m\u001b[0m\n",
      "\u001b[0;32m~/anaconda3/lib/python3.7/json/encoder.py\u001b[0m in \u001b[0;36mencode\u001b[0;34m(self, o)\u001b[0m\n\u001b[1;32m    197\u001b[0m         \u001b[0;31m# exceptions aren't as detailed.  The list call should be roughly\u001b[0m\u001b[0;34m\u001b[0m\u001b[0;34m\u001b[0m\u001b[0;34m\u001b[0m\u001b[0m\n\u001b[1;32m    198\u001b[0m         \u001b[0;31m# equivalent to the PySequence_Fast that ''.join() would do.\u001b[0m\u001b[0;34m\u001b[0m\u001b[0;34m\u001b[0m\u001b[0;34m\u001b[0m\u001b[0m\n\u001b[0;32m--> 199\u001b[0;31m         \u001b[0mchunks\u001b[0m \u001b[0;34m=\u001b[0m \u001b[0mself\u001b[0m\u001b[0;34m.\u001b[0m\u001b[0miterencode\u001b[0m\u001b[0;34m(\u001b[0m\u001b[0mo\u001b[0m\u001b[0;34m,\u001b[0m \u001b[0m_one_shot\u001b[0m\u001b[0;34m=\u001b[0m\u001b[0;32mTrue\u001b[0m\u001b[0;34m)\u001b[0m\u001b[0;34m\u001b[0m\u001b[0;34m\u001b[0m\u001b[0m\n\u001b[0m\u001b[1;32m    200\u001b[0m         \u001b[0;32mif\u001b[0m \u001b[0;32mnot\u001b[0m \u001b[0misinstance\u001b[0m\u001b[0;34m(\u001b[0m\u001b[0mchunks\u001b[0m\u001b[0;34m,\u001b[0m \u001b[0;34m(\u001b[0m\u001b[0mlist\u001b[0m\u001b[0;34m,\u001b[0m \u001b[0mtuple\u001b[0m\u001b[0;34m)\u001b[0m\u001b[0;34m)\u001b[0m\u001b[0;34m:\u001b[0m\u001b[0;34m\u001b[0m\u001b[0;34m\u001b[0m\u001b[0m\n\u001b[1;32m    201\u001b[0m             \u001b[0mchunks\u001b[0m \u001b[0;34m=\u001b[0m \u001b[0mlist\u001b[0m\u001b[0;34m(\u001b[0m\u001b[0mchunks\u001b[0m\u001b[0;34m)\u001b[0m\u001b[0;34m\u001b[0m\u001b[0;34m\u001b[0m\u001b[0m\n",
      "\u001b[0;32m~/anaconda3/lib/python3.7/json/encoder.py\u001b[0m in \u001b[0;36miterencode\u001b[0;34m(self, o, _one_shot)\u001b[0m\n\u001b[1;32m    255\u001b[0m                 \u001b[0mself\u001b[0m\u001b[0;34m.\u001b[0m\u001b[0mkey_separator\u001b[0m\u001b[0;34m,\u001b[0m \u001b[0mself\u001b[0m\u001b[0;34m.\u001b[0m\u001b[0mitem_separator\u001b[0m\u001b[0;34m,\u001b[0m \u001b[0mself\u001b[0m\u001b[0;34m.\u001b[0m\u001b[0msort_keys\u001b[0m\u001b[0;34m,\u001b[0m\u001b[0;34m\u001b[0m\u001b[0;34m\u001b[0m\u001b[0m\n\u001b[1;32m    256\u001b[0m                 self.skipkeys, _one_shot)\n\u001b[0;32m--> 257\u001b[0;31m         \u001b[0;32mreturn\u001b[0m \u001b[0m_iterencode\u001b[0m\u001b[0;34m(\u001b[0m\u001b[0mo\u001b[0m\u001b[0;34m,\u001b[0m \u001b[0;36m0\u001b[0m\u001b[0;34m)\u001b[0m\u001b[0;34m\u001b[0m\u001b[0;34m\u001b[0m\u001b[0m\n\u001b[0m\u001b[1;32m    258\u001b[0m \u001b[0;34m\u001b[0m\u001b[0m\n\u001b[1;32m    259\u001b[0m def _make_iterencode(markers, _default, _encoder, _indent, _floatstr,\n",
      "\u001b[0;32m~/anaconda3/lib/python3.7/json/encoder.py\u001b[0m in \u001b[0;36mdefault\u001b[0;34m(self, o)\u001b[0m\n\u001b[1;32m    177\u001b[0m \u001b[0;34m\u001b[0m\u001b[0m\n\u001b[1;32m    178\u001b[0m         \"\"\"\n\u001b[0;32m--> 179\u001b[0;31m         raise TypeError(f'Object of type {o.__class__.__name__} '\n\u001b[0m\u001b[1;32m    180\u001b[0m                         f'is not JSON serializable')\n\u001b[1;32m    181\u001b[0m \u001b[0;34m\u001b[0m\u001b[0m\n",
      "\u001b[0;31mTypeError\u001b[0m: Object of type Node is not JSON serializable"
     ]
    }
   ],
   "source": [
    "import json\n",
    "r = json.dumps(tree)\n",
    "r"
   ]
  },
  {
   "cell_type": "markdown",
   "metadata": {},
   "source": [
    "## Tic-Tac-Toe Dataset"
   ]
  },
  {
   "cell_type": "code",
   "execution_count": 255,
   "metadata": {},
   "outputs": [
    {
     "name": "stdout",
     "output_type": "stream",
     "text": [
      "Tic-Tac-Toe Mean Accuracy:  0.5952960526315789\n",
      "Tic-Tac-Toe Accucarcy Varianse:  0.059650727747960916\n"
     ]
    }
   ],
   "source": [
    "df = pd.read_csv('http://archive.ics.uci.edu/ml/machine-learning-databases/tic-tac-toe/tic-tac-toe.data')\n",
    "\n",
    "my_accuracies = []\n",
    "sk_accuracies = []\n",
    "\n",
    "for i in range(10):\n",
    "    train_df, test_df = train_test_k_fold_split(df, i)\n",
    "    tree = decision_tree_algorithm(train_df)\n",
    "    \n",
    "    correct = 0\n",
    "    correct_sk = 0\n",
    "    for j in range(len(test_df)):\n",
    "        example = test_df.iloc[j]\n",
    "        if classify_example(example, tree)==example[9]: correct+=1\n",
    "    \n",
    "    my_accuracies.append(correct/len(test_df))\n",
    "\n",
    "\n",
    "ttt_mean_accuracy = np.mean(my_accuracies)\n",
    "ttt_variance = np.var(my_accuracies)\n",
    "print(\"Tic-Tac-Toe Mean Accuracy: \",ttt_mean_accuracy)\n",
    "print(\"Tic-Tac-Toe Accucarcy Varianse: \",ttt_variance)"
   ]
  },
  {
   "cell_type": "markdown",
   "metadata": {},
   "source": [
    "# **Question 2**\n",
    "\n",
    "There are two possible sources for class label noise:\n",
    "\n",
    "a) Contradictory examples. The same sample appears more than once and is labeled with a different classification.\n",
    "\n",
    "b) Misclassified examples. A sample is labeled with the wrong class. This type of error is common in situations where different classes of data have similar symptoms.\n",
    "\n",
    "To evaluate the impact of class label noise, you should execute your experiments on both datasets, while various levels of noise are added. Then utilize the designed C4.5 learning algorithm from Question 1 to learn from the noisy datasets and evaluate the impact of class label noise (both Contradictory examples & Misclassified examples).\n",
    "\n",
    "● Note: when creating the noisy datasets, select L% of training data randomly and change them. (Try 10-times-10-fold cross validation to calculate the accuracy/error for each experiment.)\n",
    "\n",
    "a) Plot one figure for each dataset that shows the noise free classification accuracy along with the classification accuracy for the following noise levels: 5%, 10%, and 15%. Plot the two types of noise on one figure.\n",
    "\n",
    "b) How do you explain the effect of noise on the C4.5 method?"
   ]
  },
  {
   "cell_type": "markdown",
   "metadata": {},
   "source": [
    "## Glass Dataset"
   ]
  },
  {
   "cell_type": "code",
   "execution_count": 203,
   "metadata": {},
   "outputs": [],
   "source": [
    "def generate_misclassified_noise(data, val):    \n",
    "    label_column = data.iloc[:,9]\n",
    "    unique_classes = np.unique(label_column)\n",
    "    for _ in range(int(val*len(data))):\n",
    "        random_index_for_data = np.random.randint(low=0, high=len(data))\n",
    "        random_index_for_unique_labels = np.random.randint(low=0, high=len(unique_classes))\n",
    "        data.iloc[random_index_for_data,9]=unique_classes[random_index_for_unique_labels]\n",
    "\n",
    "    return data"
   ]
  },
  {
   "cell_type": "code",
   "execution_count": 294,
   "metadata": {},
   "outputs": [
    {
     "name": "stdout",
     "output_type": "stream",
     "text": [
      "For Noise  0.05 Mean : 0.5235930735930736  Var : 0.03895396450591256\n",
      "For Noise  0.1 Mean : 0.4054112554112554  Var : 0.06861851352111092\n",
      "For Noise  0.15 Mean : 0.4391774891774891  Var : 0.04600030921459493\n"
     ]
    }
   ],
   "source": [
    "df = pd.read_csv('http://archive.ics.uci.edu/ml/machine-learning-databases/glass/glass.data')\n",
    "df=df.drop(df.columns[0], axis=1)\n",
    "\n",
    "accuracies_under_misclassified_noise = []\n",
    "\n",
    "noises = [0.05,0.10,0.15]\n",
    "for noise in noises:\n",
    "    my_accuracies = []\n",
    "    for i in range(10):\n",
    "        \n",
    "        train_df, test_df = train_test_k_fold_split(df, i)\n",
    "        train_df = generate_misclassified_noise(train_df,noise)\n",
    "        tree = decision_tree_algorithm(train_df)\n",
    "\n",
    "        correct = 0\n",
    "        for j in range(len(test_df)):\n",
    "            example = test_df.iloc[j]\n",
    "            if classify_example(example, tree)==example[9]: correct+=1\n",
    "        my_accuracies.append(correct/len(test_df))\n",
    "    print(\"For Noise \",noise,\"Mean :\", np.mean(my_accuracies),\" Var :\",np.var(my_accuracies))\n",
    "    accuracies_under_misclassified_noise.append(np.mean(my_accuracies))"
   ]
  },
  {
   "cell_type": "code",
   "execution_count": 296,
   "metadata": {},
   "outputs": [
    {
     "data": {
      "image/png": "[encoded data removed]",
      "text/plain": [
       "<Figure size 432x288 with 1 Axes>"
      ]
     },
     "metadata": {
      "needs_background": "light"
     },
     "output_type": "display_data"
    }
   ],
   "source": [
    "y = [glass_mean_accuracy]+accuracies_under_misclassified_noise\n",
    "plt.bar([\"No Noise\",\"5%\",\"10%\",\"15%\"], y)\n",
    "plt.title(\"Percentage of Misclassified Noise vs Accuracy\")\n",
    "plt.xlabel(\"Percentage of Noise\")\n",
    "plt.ylabel(\"Accuracy\")\n",
    "plt.show();"
   ]
  },
  {
   "cell_type": "code",
   "execution_count": 251,
   "metadata": {},
   "outputs": [],
   "source": [
    "def generate_contradictory_noise(data, val):    \n",
    "    d=data\n",
    "    label_column = data.iloc[:,9]\n",
    "    unique_classes = np.unique(label_column)\n",
    "    for _ in range(int(val*len(data))):\n",
    "        random_index_for_data = np.random.randint(low=0, high=len(data))\n",
    "        random_index_for_unique_labels = np.random.randint(low=0, high=len(unique_classes))\n",
    "        new_row=data.iloc[random_index_for_data]\n",
    "        new_row[9]=unique_classes[random_index_for_unique_labels]\n",
    "        d=d.append(new_row)\n",
    "    return d"
   ]
  },
  {
   "cell_type": "code",
   "execution_count": 297,
   "metadata": {},
   "outputs": [
    {
     "name": "stderr",
     "output_type": "stream",
     "text": [
      "/Users/tushar/anaconda3/lib/python3.7/site-packages/ipykernel_launcher.py:10: SettingWithCopyWarning: \n",
      "A value is trying to be set on a copy of a slice from a DataFrame\n",
      "\n",
      "See the caveats in the documentation: http://pandas.pydata.org/pandas-docs/stable/indexing.html#indexing-view-versus-copy\n",
      "  # Remove the CWD from sys.path while we load stuff.\n"
     ]
    },
    {
     "name": "stdout",
     "output_type": "stream",
     "text": [
      "For Noise  0.05 Mean : 0.48571428571428565  Var : 0.04227450759918293\n",
      "For Noise  0.1 Mean : 0.4807359307359307  Var : 0.06306520679897304\n",
      "For Noise  0.15 Mean : 0.4108225108225108  Var : 0.037186147186147184\n"
     ]
    }
   ],
   "source": [
    "df = pd.read_csv('http://archive.ics.uci.edu/ml/machine-learning-databases/glass/glass.data')\n",
    "df=df.drop(df.columns[0], axis=1)\n",
    "\n",
    "noises = [0.05,0.10,0.15]\n",
    "\n",
    "accuracies_under_contradictory_noise = []\n",
    "for noise in noises:\n",
    "    my_accuracies = []\n",
    "    for i in range(10):\n",
    "        \n",
    "        train_df, test_df = train_test_k_fold_split(df, i)\n",
    "        train_df = generate_contradictory_noise(train_df,noise)\n",
    "        tree = decision_tree_algorithm(train_df)\n",
    "        correct = 0\n",
    "        for j in range(len(test_df)):\n",
    "            example = test_df.iloc[j]\n",
    "            if classify_example(example, tree)==example[9]: correct+=1\n",
    "        my_accuracies.append(correct/len(test_df))\n",
    "    print(\"For Noise \",noise,\"Mean :\", np.mean(my_accuracies),\" Var :\",np.var(my_accuracies))\n",
    "    accuracies_under_contradictory_noise.append(np.mean(my_accuracies))"
   ]
  },
  {
   "cell_type": "code",
   "execution_count": 298,
   "metadata": {},
   "outputs": [
    {
     "data": {
      "image/png": "[encoded data removed]",
      "text/plain": [
       "<Figure size 432x288 with 1 Axes>"
      ]
     },
     "metadata": {
      "needs_background": "light"
     },
     "output_type": "display_data"
    }
   ],
   "source": [
    "y = [glass_mean_accuracy]+accuracies_under_contradictory_noise\n",
    "plt.bar([\"No Noise\",\"5%\",\"10%\",\"15%\"], y)\n",
    "plt.title(\"Percentage of Contradictory Noise vs Accuracy\")\n",
    "plt.xlabel(\"Percentage of Noise\")\n",
    "plt.ylabel(\"Accuracy\")\n",
    "plt.show();"
   ]
  },
  {
   "cell_type": "code",
   "execution_count": null,
   "metadata": {},
   "outputs": [],
   "source": []
  }
 ],
 "metadata": {
  "kernelspec": {
   "display_name": "Python 3",
   "language": "python",
   "name": "python3"
  },
  "language_info": {
   "codemirror_mode": {
    "name": "ipython",
    "version": 3
   },
   "file_extension": ".py",
   "mimetype": "text/x-python",
   "name": "python",
   "nbconvert_exporter": "python",
   "pygments_lexer": "ipython3",
   "version": "3.7.1"
  }
 },
 "nbformat": 4,
 "nbformat_minor": 2
}
