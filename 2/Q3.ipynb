{
 "cells": [
  {
   "cell_type": "markdown",
   "metadata": {},
   "source": [
    "## Question 3\n",
    "\n",
    "Design a feature selection algorithm to find the best features for classifying the Mnist dataset. Implement a bidirectional search algorithm using the provided objective function as the measure for your search algorithm.\n",
    "\n",
    "Use the first 10000 samples of training set in the Mnist dataset for feature selection and training set for kNN approach. Use Euclidean distance to calculate Inter-class.\n",
    "\n",
    "The objective function should be based on this equestion:\n",
    "\n",
    "### J = Inter Class distance"
   ]
  },
  {
   "cell_type": "code",
   "execution_count": 242,
   "metadata": {},
   "outputs": [],
   "source": [
    "import gzip\n",
    "import time\n",
    "import numpy as np\n",
    "import matplotlib.pyplot as plt\n",
    "from scipy.spatial.distance import euclidean\n",
    "\n",
    "image_size = 28\n",
    "training_samples = 60000\n",
    "\n",
    "# Importing Train Data\n",
    "f_train = gzip.open('train-images-idx3-ubyte.gz','r')\n",
    "f_train.read(16)\n",
    "buf = f_train.read(image_size * image_size * training_samples)\n",
    "train_data = np.frombuffer(buf, dtype=np.uint8).astype(np.float32)\n",
    "# train_data = data.reshape(num_images, image_size, image_size)\n",
    "train_data = train_data.reshape(training_samples, image_size* image_size)\n",
    "\n",
    "\n",
    "# Importing Train Labels\n",
    "f_train_label = gzip.open('train-labels-idx1-ubyte.gz','r')\n",
    "f_train_label.read(8)\n",
    "buf = f_train_label.read(training_samples)\n",
    "train_labels = np.frombuffer(buf, dtype=np.uint8).astype(np.float32)\n",
    "\n",
    "\n",
    "# Importing Test Data\n",
    "testing_images = 10000\n",
    "f_test = gzip.open('t10k-images-idx3-ubyte.gz','r')\n",
    "f_test.read(16)\n",
    "buf = f_test.read(image_size * image_size * testing_images)\n",
    "test_data = np.frombuffer(buf, dtype=np.uint8).astype(np.float32)\n",
    "test_data = test_data.reshape(testing_images, image_size * image_size)\n",
    "\n",
    "# Importing Test Labels\n",
    "f_test_label = gzip.open('t10k-labels-idx1-ubyte.gz','r')\n",
    "f_test_label.read(8)\n",
    "buf = f_test_label.read(testing_images)\n",
    "test_labels = np.frombuffer(buf, dtype=np.uint8).astype(np.float32)\n",
    "\n",
    "\n",
    "train_data = train_data[0:10000]\n",
    "train_labels = train_labels[0:10000]"
   ]
  },
  {
   "cell_type": "code",
   "execution_count": 228,
   "metadata": {},
   "outputs": [],
   "source": [
    "from sklearn.neighbors import KNeighborsClassifier\n",
    "def apply_knn(train_data, train_labels, k):\n",
    "    \n",
    "    train_d =train_data[:8000]\n",
    "    train_l =train_labels[:8000]\n",
    "    \n",
    "    test_d = train_data[8000:]\n",
    "    test_l =train_labels[8000:]\n",
    "    \n",
    "    model = KNeighborsClassifier(n_neighbors=k)\n",
    "    model.fit(train_d,train_l)\n",
    "    \n",
    "    correct = 0\n",
    "    for i in range(len(test_d)):\n",
    "        if model.predict([test_d[i]]) == test_l[i]: correct+=1\n",
    "    \n",
    "    return correct/len(test_d)"
   ]
  },
  {
   "cell_type": "markdown",
   "metadata": {},
   "source": [
    "a) Select the set of {10, 50, 150, 392} features based on the implemented feature selection approach and report the accuracy on the test set of MNIST based on kNN with k = 3. Note: you can take advantage of data structure tricks to speed up the efficiency of kNN algorithm."
   ]
  },
  {
   "cell_type": "code",
   "execution_count": 285,
   "metadata": {},
   "outputs": [
    {
     "name": "stdout",
     "output_type": "stream",
     "text": [
      "(10000, 392)\n"
     ]
    }
   ],
   "source": [
    "dimensions = [10,50,150,392]\n",
    "my_train_data = train_data\n",
    "new_train_data = None\n",
    "deleted_j_max_indices = []\n",
    "deleted_j_min_indices = []\n",
    "for _ in range(392):\n",
    "    \n",
    "    # SFS\n",
    "    main_mean = np.mean(my_train_data, axis=0)\n",
    "    mean_i = []\n",
    "    for i in np.unique(train_labels):\n",
    "        indices_of_i = np.where(train_labels == i)[0]\n",
    "        c_i = np.take(my_train_data, indices_of_i, axis=0)\n",
    "        mean_i.append(np.mean(c_i, axis=0))    \n",
    "\n",
    "    J_max = 0\n",
    "    j_max_index = 0\n",
    "    for i in range(784):\n",
    "        if i not in deleted_j_max_indices and i not in deleted_j_min_indices:\n",
    "            distance = 0\n",
    "            for mean in mean_i:\n",
    "                distance += euclidean(main_mean[i],mean[i])\n",
    "            if distance >= J_max:\n",
    "                J_max = distance\n",
    "                j_max_index = i\n",
    "   \n",
    "    deleted_j_max_indices.append(j_max_index)\n",
    "    \n",
    "    if new_train_data is None:\n",
    "        new_train_data=my_train_data[:,j_max_index]\n",
    "    else:  \n",
    "        new_train_data = np.c_[new_train_data, my_train_data[:,j_max_index]]\n",
    "\n",
    "    \n",
    "    # SBS\n",
    "    main_mean = np.mean(my_train_data, axis=0)\n",
    "    mean_i = []\n",
    "    for i in np.unique(train_labels):\n",
    "        indices_of_i = np.where(train_labels == i)[0]\n",
    "        c_i = np.take(my_train_data, indices_of_i, axis=0)\n",
    "        mean_i.append(np.mean(c_i, axis=0))  \n",
    "        \n",
    "    J_min = J_max\n",
    "    j_min_index = 0\n",
    "    for i in range(784):\n",
    "        if i not in deleted_j_max_indices and i not in deleted_j_min_indices:\n",
    "            distance = 0\n",
    "            for mean in mean_i:\n",
    "                distance += euclidean(main_mean[i],mean[i])\n",
    "            if distance <= J_min:\n",
    "                J_min = distance\n",
    "                j_min_index = i\n",
    "    \n",
    "    deleted_j_min_indices.append(j_min_index)\n",
    "\n",
    "print(new_train_data.shape)"
   ]
  },
  {
   "cell_type": "code",
   "execution_count": 324,
   "metadata": {},
   "outputs": [
    {
     "name": "stdout",
     "output_type": "stream",
     "text": [
      "[0.5815, 0.8165, 0.9135, 0.9365]\n"
     ]
    }
   ],
   "source": [
    "accuracies = []\n",
    "for d in dimensions:\n",
    "    accuracies.append(apply_knn(new_train_data[:,:d],train_labels, 3))\n",
    "print(accuracies)"
   ]
  },
  {
   "cell_type": "markdown",
   "metadata": {},
   "source": [
    "b) Visualize the selected features for each set in {10, 50, 150, 392} by a zero 2-D plane where the selected features are pixels set to a value of 1. Compare the 4 different planes."
   ]
  },
  {
   "cell_type": "code",
   "execution_count": 292,
   "metadata": {},
   "outputs": [
    {
     "data": {
      "image/png": "[encoded data removed]",
      "text/plain": [
       "<Figure size 432x288 with 1 Axes>"
      ]
     },
     "metadata": {
      "needs_background": "light"
     },
     "output_type": "display_data"
    },
    {
     "data": {
      "image/png": "[encoded data removed]",
      "text/plain": [
       "<Figure size 432x288 with 1 Axes>"
      ]
     },
     "metadata": {
      "needs_background": "light"
     },
     "output_type": "display_data"
    },
    {
     "data": {
      "image/png": "[encoded data removed]",
      "text/plain": [
       "<Figure size 432x288 with 1 Axes>"
      ]
     },
     "metadata": {
      "needs_background": "light"
     },
     "output_type": "display_data"
    },
    {
     "data": {
      "image/png": "[encoded data removed]",
      "text/plain": [
       "<Figure size 432x288 with 1 Axes>"
      ]
     },
     "metadata": {
      "needs_background": "light"
     },
     "output_type": "display_data"
    }
   ],
   "source": [
    "for d in dimensions:\n",
    "    data = np.zeros(784)\n",
    "    for val in deleted_j_max_indices[:d]:\n",
    "        data[val] = 1.0\n",
    "    data = data.reshape((28, 28))\n",
    "    plt.imshow(data);\n",
    "    plt.title(\"First best %i features\"%d)\n",
    "    plt.show()"
   ]
  },
  {
   "cell_type": "markdown",
   "metadata": {},
   "source": [
    "c) Apply LDA on the dataset and report the accuracy based on kNN with k = 3. Compare the achieved accuracy by the reported accuracies in part (a). Note: you need to implement LDA method by yourself."
   ]
  },
  {
   "cell_type": "code",
   "execution_count": 323,
   "metadata": {},
   "outputs": [
    {
     "data": {
      "text/plain": [
       "0.903"
      ]
     },
     "execution_count": 323,
     "metadata": {},
     "output_type": "execute_result"
    }
   ],
   "source": [
    "my_train_data = train_data\n",
    "n_comp=9\n",
    "\n",
    "overall_mean = np.mean(my_train_data, axis=0)\n",
    "\n",
    "S_W=np.zeros((784,784))\n",
    "for i in np.unique(train_labels):\n",
    "    S=np.zeros((784,784))\n",
    "    indices_of_i = np.where(train_labels == i)[0]\n",
    "    c_i = np.take(my_train_data, indices_of_i, axis=0)\n",
    "    mean = np.mean(c_i, axis=0)\n",
    "    mean= mean.reshape(784,1)\n",
    "    for sample in c_i:\n",
    "        sample= sample.reshape(784,1)\n",
    "        S=S+np.dot(sample-mean,(sample-mean).T)\n",
    "    S_W += S      \n",
    "    \n",
    "S_B=np.zeros((784,784))\n",
    "for i in np.unique(train_labels):\n",
    "    indices_of_i = np.where(train_labels == i)[0]\n",
    "    c_i = np.take(my_train_data, indices_of_i, axis=0)\n",
    "    mean = np.mean(c_i, axis=0)\n",
    "    mean= mean.reshape(784,1)\n",
    "    overall_mean= overall_mean.reshape(784,1)\n",
    "    S_B = S_B + len(c_i)*(mean-overall_mean).dot((mean-overall_mean).T)\n",
    "    \n",
    "eig_vals, eig_vecs = np.linalg.eig(np.linalg.pinv(S_W).dot(S_b))\n",
    "\n",
    "eig_pairs = [(np.abs(eig_vals[i]), eig_vecs[:,i]) for i in range(len(eig_vals))]\n",
    "eig_pairs = sorted(eig_pairs, key=lambda k: k[0], reverse=True)\n",
    "W = np.hstack([eig_pairs[i][1].reshape(784, 1) for i in range(0, n_comp)])\n",
    "new_data= my_train_data.dot(W)\n",
    "apply_knn(new_data.real, train_labels, 3)"
   ]
  }
 ],
 "metadata": {
  "kernelspec": {
   "display_name": "Python 3",
   "language": "python",
   "name": "python3"
  },
  "language_info": {
   "codemirror_mode": {
    "name": "ipython",
    "version": 3
   },
   "file_extension": ".py",
   "mimetype": "text/x-python",
   "name": "python",
   "nbconvert_exporter": "python",
   "pygments_lexer": "ipython3",
   "version": "3.7.1"
  }
 },
 "nbformat": 4,
 "nbformat_minor": 2
}
