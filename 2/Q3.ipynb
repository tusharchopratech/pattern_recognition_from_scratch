{
 "cells": [
  {
   "cell_type": "markdown",
   "metadata": {},
   "source": [
    "## Question 3\n",
    "\n",
    "Design a feature selection algorithm to find the best features for classifying the Mnist dataset. Implement a bidirectional search algorithm using the provided objective function as the measure for your search algorithm.\n",
    "\n",
    "Use the first 10000 samples of training set in the Mnist dataset for feature selection and training set for kNN approach. Use Euclidean distance to calculate Inter-class.\n",
    "\n",
    "The objective function should be based on this equestion:\n",
    "\n",
    "### J = Inter Class distance"
   ]
  },
  {
   "cell_type": "code",
   "execution_count": 3,
   "metadata": {},
   "outputs": [],
   "source": [
    "import gzip\n",
    "import time\n",
    "import numpy as np\n",
    "import matplotlib.pyplot as plt\n",
    "\n",
    "image_size = 28\n",
    "training_samples = 60000\n",
    "\n",
    "# Importing Train Data\n",
    "f_train = gzip.open('train-images-idx3-ubyte.gz','r')\n",
    "f_train.read(16)\n",
    "buf = f_train.read(image_size * image_size * training_samples)\n",
    "train_data = np.frombuffer(buf, dtype=np.uint8).astype(np.float32)\n",
    "# train_data = data.reshape(num_images, image_size, image_size)\n",
    "train_data = train_data.reshape(training_samples, image_size, image_size)\n",
    "\n",
    "\n",
    "# Importing Train Labels\n",
    "f_train_label = gzip.open('train-labels-idx1-ubyte.gz','r')\n",
    "f_train_label.read(8)\n",
    "buf = f_train_label.read(training_samples)\n",
    "train_labels = np.frombuffer(buf, dtype=np.uint8).astype(np.float32)\n",
    "\n",
    "\n",
    "# Importing Test Data\n",
    "testing_images = 10000\n",
    "f_test = gzip.open('t10k-images-idx3-ubyte.gz','r')\n",
    "f_test.read(16)\n",
    "buf = f_test.read(image_size * image_size * testing_images)\n",
    "test_data = np.frombuffer(buf, dtype=np.uint8).astype(np.float32)\n",
    "test_data = test_data.reshape(testing_images, image_size , image_size)\n",
    "\n",
    "# Importing Test Labels\n",
    "f_test_label = gzip.open('t10k-labels-idx1-ubyte.gz','r')\n",
    "f_test_label.read(8)\n",
    "buf = f_test_label.read(testing_images)\n",
    "test_labels = np.frombuffer(buf, dtype=np.uint8).astype(np.float32)"
   ]
  },
  {
   "cell_type": "markdown",
   "metadata": {},
   "source": [
    "a) Select the set of {10, 50, 150, 392} features based on the implemented feature selection approach and report the accuracy on the test set of MNIST based on kNN with k = 3. Note: you can take advantage of data structure tricks to speed up the efficiency of kNN algorithm."
   ]
  },
  {
   "cell_type": "code",
   "execution_count": null,
   "metadata": {},
   "outputs": [],
   "source": []
  },
  {
   "cell_type": "markdown",
   "metadata": {},
   "source": [
    "b) Visualize the selected features for each set in {10, 50, 150, 392} by a zero 2-D plane where the selected features are pixels set to a value of 1. Compare the 4 different planes."
   ]
  },
  {
   "cell_type": "code",
   "execution_count": null,
   "metadata": {},
   "outputs": [],
   "source": []
  },
  {
   "cell_type": "markdown",
   "metadata": {},
   "source": [
    "c) Apply LDA on the dataset and report the accuracy based on kNN with k =3. Compare the achieved accuracy by the reported accuracies in part (a). Note: you need to implement LDA method by yourself."
   ]
  },
  {
   "cell_type": "code",
   "execution_count": 9,
   "metadata": {},
   "outputs": [
    {
     "name": "stdout",
     "output_type": "stream",
     "text": [
      "(60000, 784)\n",
      "(60000, 784)\n",
      "(60000,)\n"
     ]
    },
    {
     "data": {
      "text/plain": [
       "array([0, 1, 2, 3, 4, 5, 6, 7, 8])"
      ]
     },
     "execution_count": 9,
     "metadata": {},
     "output_type": "execute_result"
    }
   ],
   "source": [
    "print(train_data.shape)\n",
    "train_data = train_data.reshape(training_samples, image_size * image_size)\n",
    "print(train_data.shape)\n",
    "print(train_labels.shape)\n",
    "\n",
    "\n",
    "\n",
    "for my_class in np.arange(9):\n",
    "    \n",
    "    \n"
   ]
  }
 ],
 "metadata": {
  "kernelspec": {
   "display_name": "Python 3",
   "language": "python",
   "name": "python3"
  },
  "language_info": {
   "codemirror_mode": {
    "name": "ipython",
    "version": 3
   },
   "file_extension": ".py",
   "mimetype": "text/x-python",
   "name": "python",
   "nbconvert_exporter": "python",
   "pygments_lexer": "ipython3",
   "version": "3.7.1"
  }
 },
 "nbformat": 4,
 "nbformat_minor": 2
}
