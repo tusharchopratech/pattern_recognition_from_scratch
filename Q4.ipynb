{
 "cells": [
  {
   "cell_type": "markdown",
   "metadata": {},
   "source": [
    "## 4. Once again, consider the MNIST dataset. Use the training set as your training data and the test set as your test data."
   ]
  },
  {
   "cell_type": "code",
   "execution_count": 1,
   "metadata": {},
   "outputs": [],
   "source": [
    "import gzip\n",
    "import time\n",
    "import numpy as np\n",
    "import matplotlib.pyplot as plt\n",
    "\n",
    "image_size = 28\n",
    "training_samples = 60000\n",
    "\n",
    "f_train = gzip.open('train-images-idx3-ubyte.gz','r')\n",
    "f_train.read(16)\n",
    "buf = f_train.read(image_size * image_size * training_samples)\n",
    "train_data = np.frombuffer(buf, dtype=np.uint8).astype(np.float32)\n",
    "# train_data = data.reshape(num_images, image_size, image_size)\n",
    "train_data = train_data.reshape(training_samples, image_size, image_size)\n",
    "\n",
    "\n",
    "f_train_label = gzip.open('train-labels-idx1-ubyte.gz','r')\n",
    "f_train_label.read(8)\n",
    "buf = f_train_label.read(training_samples)\n",
    "train_labels = np.frombuffer(buf, dtype=np.uint8).astype(np.float32)\n",
    "\n",
    "\n",
    "testing_images = 10000\n",
    "f_test = gzip.open('t10k-images-idx3-ubyte.gz','r')\n",
    "f_test.read(16)\n",
    "buf = f_test.read(image_size * image_size * testing_images)\n",
    "test_data = np.frombuffer(buf, dtype=np.uint8).astype(np.float32)\n",
    "test_data = test_data.reshape(testing_images, image_size , image_size)\n",
    "\n",
    "\n",
    "f_test_label = gzip.open('t10k-labels-idx1-ubyte.gz','r')\n",
    "f_test_label.read(8)\n",
    "buf = f_test_label.read(testing_images)\n",
    "test_labels = np.frombuffer(buf, dtype=np.uint8).astype(np.float32)\n",
    "\n",
    "\n",
    "# from IPython.core.display import display, HTML\n",
    "# display(HTML(\"<style>.container { width:100% !important; }</style>\"))\n",
    "# print(train_labels[10])\n",
    "# print(train_data[10])"
   ]
  },
  {
   "cell_type": "markdown",
   "metadata": {},
   "source": [
    "a) Classify the test data using a kNN classifier. Report the accuracy for k = {1,3,5,11}. Justify and compare the reported accuracies for the different values of k. Do not use kNN implemented function in Python/Matlab and implement it by yourself."
   ]
  },
  {
   "cell_type": "code",
   "execution_count": 2,
   "metadata": {},
   "outputs": [],
   "source": [
    "from scipy.spatial.distance import cdist\n",
    "\n",
    "def get_euclidean_distance(sample1, sample2):\n",
    "    return cdist(sample2, sample1 , 'euclidean')\n",
    "\n",
    "\n",
    "def my_knn(train_data, train_labels, test_data, k_for_knn):\n",
    "    \n",
    "    distance_matrix = get_euclidean_distance(train_data, test_data)\n",
    "    distance_matrix=np.array(distance_matrix)\n",
    "    distance_matrix_sorted_index=np.argsort(distance_matrix)\n",
    "    \n",
    "    accuracies = []\n",
    "    for k in k_for_knn:\n",
    "    \n",
    "        correct_classified = 0\n",
    "        for i in range(len(distance_matrix_sorted_index)):\n",
    "\n",
    "            array = distance_matrix_sorted_index[i][:k]\n",
    "\n",
    "            neighbours_info = []        \n",
    "            for i2 in array:\n",
    "                if len(neighbours_info) == 0:\n",
    "                    neighbours_info.append([train_labels[i2],1])\n",
    "                else:\n",
    "                    index = 0\n",
    "                    while index < len(neighbours_info):\n",
    "                        if neighbours_info[index][0] == train_labels[i2]: \n",
    "                            break \n",
    "                        index+=1\n",
    "\n",
    "                    if index < len(neighbours_info):\n",
    "                        neighbours_info[index][1]+=1\n",
    "                    else:    \n",
    "                        neighbours_info.append([train_labels[i2],1]) \n",
    "            neighbours_info=np.array(neighbours_info) \n",
    "            neighbours_info = neighbours_info[neighbours_info[:,1].argsort()]\n",
    "            neighbours_info=neighbours_info[::-1]\n",
    "\n",
    "            if test_labels[i] == neighbours_info[0][0]:\n",
    "                correct_classified+=1\n",
    "\n",
    "        accuracy = (correct_classified/len(distance_matrix_sorted_index))*100\n",
    "        accuracies.append(accuracy)\n",
    "    \n",
    "    return accuracies"
   ]
  },
  {
   "cell_type": "code",
   "execution_count": 3,
   "metadata": {},
   "outputs": [
    {
     "name": "stdout",
     "output_type": "stream",
     "text": [
      "Completed!\n",
      "k=1 : 96.91\n",
      "k=3 : 97.04\n",
      "k=5 : 96.86\n",
      "k=11 : 96.64\n",
      "Time Spent: 886.3  seconds.\n"
     ]
    }
   ],
   "source": [
    "my_train_data = train_data.reshape(training_samples, image_size * image_size)\n",
    "my_test_data = test_data.reshape(testing_images, image_size * image_size)\n",
    "k= [1,3,5,11]\n",
    "\n",
    "t1 = time.time()\n",
    "accuracies = my_knn(my_train_data, train_labels, my_test_data, k)\n",
    "t2 = time.time()\n",
    "print(\"Completed!\")\n",
    "print(\"k=1 :\", accuracies[0])\n",
    "print(\"k=3 :\", accuracies[1])\n",
    "print(\"k=5 :\", accuracies[2])\n",
    "print(\"k=11 :\", accuracies[3])\n",
    "print(\"Time Spent:\",str(t2-t1)[:5],\" seconds.\")"
   ]
  },
  {
   "cell_type": "markdown",
   "metadata": {},
   "source": [
    "b) Apply PCA to MNIST to create a new dataset MNIST-d. Classify the test samples in MNIST-d using a kNN classifier. For each d = {5, 50, 100, 500} use k = {1,3,5,11}. Calculate and display the classification accuracy for each of the 16 combinations of d and k in a table. Discuss the results."
   ]
  },
  {
   "cell_type": "code",
   "execution_count": 5,
   "metadata": {},
   "outputs": [],
   "source": [
    "def pca_from_no_dimentions(data, dimentions):\n",
    "    X = data\n",
    "    mean_train_data = np.mean(X, axis=0)\n",
    "    X = X - mean_train_data\n",
    "    cov = np.cov(X)\n",
    "    eigen_values, eigen_vectors = np.linalg.eigh(cov)\n",
    "\n",
    "    i = np.argsort(eigen_values)\n",
    "    i=i[::-1]\n",
    "    largest_eigen_values_index = i[:dimentions]\n",
    "    eigen_vectors_with_largest_eigen_values = eigen_vectors[:,largest_eigen_values_index]\n",
    "    P = np.dot(eigen_vectors_with_largest_eigen_values.T,X) \n",
    "    return np.array(P), eigen_vectors_with_largest_eigen_values, eigen_values, mean_train_data"
   ]
  },
  {
   "cell_type": "code",
   "execution_count": 7,
   "metadata": {},
   "outputs": [
    {
     "name": "stdout",
     "output_type": "stream",
     "text": [
      "\n",
      "Executing for d = 5 \n",
      "For d = 5  k=1 : 37.2  k=3 : 39.01  k=5 : 40.03  k=11 : 40.82\n",
      "\n",
      "Executing for d = 50 \n",
      "For d = 50  k=1 : 41.47  k=3 : 43.69  k=5 : 44.7  k=11 : 46.26\n",
      "\n",
      "Executing for d = 100 \n",
      "For d = 100  k=1 : 42.52  k=3 : 44.49  k=5 : 45.35  k=11 : 46.0\n",
      "\n",
      "Executing for d = 500 \n",
      "For d = 500  k=1 : 43.16  k=3 : 44.39  k=5 : 45.12  k=11 : 45.9\n",
      "\n",
      "Completed! Time Spent: 656.9  seconds.\n"
     ]
    }
   ],
   "source": [
    "my_train_data = train_data.reshape(training_samples, image_size * image_size)\n",
    "my_test_data = test_data.reshape(testing_images, image_size * image_size)\n",
    "d=[5,50,100,500]\n",
    "k=[1,3,5,11]\n",
    "\n",
    "t1 = time.time()\n",
    "for val in d:\n",
    "    print(\"\\nExecuting for d =\",val,\"\")\n",
    "    t1 = time.time()\n",
    "    lower_dimentions_data_train, _, _, _ = pca_from_no_dimentions(np.array(my_train_data.T), val)\n",
    "    lower_dimentions_data_test, _, _, _ = pca_from_no_dimentions(np.array(my_test_data.T), val)\n",
    "    accuracies = my_knn(lower_dimentions_data_train.T, train_labels, lower_dimentions_data_test.T, k)\n",
    "    print(\"For d =\",val,\" k=1 :\", accuracies[0],\" k=3 :\", accuracies[1],\" k=5 :\", accuracies[2],\" k=11 :\", accuracies[3])\n",
    "t2 = time.time()\n",
    "print(\"\\nCompleted!\",\"Time Spent:\",str(t2-t1)[:5],\" seconds.\")    "
   ]
  }
 ],
 "metadata": {
  "kernelspec": {
   "display_name": "Python 3",
   "language": "python",
   "name": "python3"
  },
  "language_info": {
   "codemirror_mode": {
    "name": "ipython",
    "version": 3
   },
   "file_extension": ".py",
   "mimetype": "text/x-python",
   "name": "python",
   "nbconvert_exporter": "python",
   "pygments_lexer": "ipython3",
   "version": "3.7.1"
  }
 },
 "nbformat": 4,
 "nbformat_minor": 2
}
